{
 "cells": [
  {
   "cell_type": "markdown",
   "metadata": {},
   "source": [
    "# Computación Científica II\n",
    "## Laboratorio  #4\n",
    "    \n",
    "   Gabriela González Toledo      gabriela.gonzalez@alumnos.usm.cl  201173017-8\n",
    "   \n",
    "   Ian Zamorano Escobedo         Ian.zamorano.12@sansano.usm.cl    201273018-k"
   ]
  },
  {
   "cell_type": "code",
   "execution_count": null,
   "metadata": {
    "collapsed": false
   },
   "outputs": [],
   "source": [
    "from mpl_toolkits.mplot3d import Axes3D\n",
    "import numpy as np\n",
    "import matplotlib.pyplot as plt\n",
    "\n",
    "import timeit\n",
    "from math import ceil, floor\n",
    "from sympy import *\n",
    "from sympy.abc import *\n",
    "from scipy.special import gamma\n",
    "from matplotlib import cm\n",
    "\n",
    "#%load_ext line_profiler"
   ]
  },
  {
   "cell_type": "markdown",
   "metadata": {},
   "source": [
    "### Introducción:"
   ]
  },
  {
   "cell_type": "markdown",
   "metadata": {},
   "source": [
    "En este laboratorio trabajaremos en la resolución de la ecuación de onda (EDP Hiperbólica) utilizando distintas condiciones\n",
    "de borde y una velocidad constante. A medida que resolvamos y grafiquemos nuestras soluciones veremos cual es el comportamiento al cambiar las condiciones de borde. También veremos que sucede graficamente al acercarnos a la inestabilidad del método variando el tamaño de los intervalos de tiempo."
   ]
  },
  {
   "cell_type": "markdown",
   "metadata": {},
   "source": [
    "### Ley de Ampere"
   ]
  },
  {
   "cell_type": "markdown",
   "metadata": {},
   "source": [
    "#### 1. Ecuación característica:"
   ]
  },
  {
   "cell_type": "markdown",
   "metadata": {
    "collapsed": false
   },
   "source": [
    "$$\n",
    "\\vec{\\nabla} \\times \\vec{B} =\\mu_0 \\vec{J} + \\mu_0 \\epsilon_0 \\cfrac{\\partial \\vec{E}}{\\partial t} \n",
    "$$\n",
    "\n",
    "$$\n",
    "\\vec{J} = \\vec{0}\n",
    "$$\n",
    "\n",
    "$$\n",
    "\\vec{\\nabla} \\times \\vec{B} = \\mu_0 \\epsilon_0 \\cfrac{\\partial \\vec{E}}{\\partial t} \\qquad / \\; \\vec{\\nabla} \\times\n",
    "$$\n",
    "\n",
    "$$\n",
    "\\vec{\\nabla} \\times (\\vec{\\nabla} \\times \\vec{B}) = \\vec{\\nabla} \\times \\mu_0 \\epsilon_0 \\cfrac{\\partial \\vec{E}}{\\partial t}\n",
    "$$\n",
    "\n",
    "$$\n",
    "\\vec{\\nabla} (\\vec{\\nabla} \\vec{B}) - \\vec{\\nabla}^{2} \\vec{B} = \\vec{\\nabla} \\times \\mu_0 \\epsilon_0 \\cfrac{\\partial \\vec{E}}{\\partial t}\n",
    "$$\n",
    "\n",
    "$$\n",
    "Por ~ Gauss (\\vec{\\nabla} \\cdot \\vec{B} = 0)\n",
    "$$\n",
    "\n",
    "$$\n",
    "\\therefore - \\vec{\\nabla}^{2} \\vec{B} = \\vec{\\nabla} \\times \\mu_0 \\epsilon_0 \\cfrac{\\partial \\vec{E}}{\\partial t}\n",
    "$$\n",
    "\n",
    "$$\n",
    "Por ~ Faraday-Lenz \\left( \\vec{\\nabla} \\times \\vec{E} = - \\cfrac{\\partial B }{\\partial t}\\right)\n",
    "$$\n",
    "\n",
    "$$\n",
    " - \\vec{\\nabla}^{2} \\vec{B} = - \\mu_0 \\epsilon_0 \\cfrac{\\partial^2 \\vec{B}}{\\partial t^2}\n",
    "$$\n",
    "\n",
    "$$\n",
    " \\vec{\\nabla}^{2} \\vec{B} = \\mu_0 \\epsilon_0 \\cfrac{\\partial^2 \\vec{B}}{\\partial t^2}\n",
    "$$\n",
    "\n",
    "$$\n",
    "\\vec{B}_{xx} + \\vec{B}_{yy}= \\mu_0 \\epsilon_0 \\vec{B}_{tt}\n",
    "$$\n"
   ]
  },
  {
   "cell_type": "markdown",
   "metadata": {},
   "source": [
    "#### 2. Significado fisico:"
   ]
  },
  {
   "cell_type": "markdown",
   "metadata": {
    "collapsed": false
   },
   "source": [
    "$\\epsilon_0$ : Fisicamente esta constante representa la permitividad eléctrica del vacío.\n",
    "\n",
    "$\\mu_0 $ : Esta constante corresponde a la permeabilidad magnética del vacío."
   ]
  },
  {
   "cell_type": "markdown",
   "metadata": {},
   "source": [
    "\n"
   ]
  },
  {
   "cell_type": "markdown",
   "metadata": {},
   "source": [
    "#### 3.  Discretizacion de ecuacion de onda"
   ]
  },
  {
   "cell_type": "markdown",
   "metadata": {
    "collapsed": false
   },
   "source": [
    "$$\n",
    "\\vec{B} \\rightarrow u\n",
    "$$\n",
    "\n",
    "$$\n",
    "u_{i,j,k} = B(x_i,y_j,t_k) = u(i\\Delta x, j\\Delta y, k \\Delta t) \\qquad i,j,k \\in \\{1,2,3, \\dots , N\\}\n",
    "$$\n",
    "\n",
    "$$\n",
    "u_{xx} = \\cfrac{u_{i-1,j,k} + 2 u_{i,j,k} + u_{i+1,j,k}}{\\Delta x^{2}}\n",
    "$$\n",
    "\n",
    "$$\n",
    "u_{yy} = \\cfrac{u_{i,j-1,k} + 2 u_{i,j,k} + u_{i,j+1,k}}{\\Delta y^{2}}\n",
    "$$\n",
    "\n",
    "$$\n",
    "u_{tt} = \\cfrac{u_{i,j,k-1} + 2 u_{i,j,k} + u_{i+1,j,k+1}}{\\Delta t^{2}}\n",
    "$$\n",
    "\n",
    "$$\n",
    "u_{xx} + u_{yy} = \\mu_0 \\epsilon_0 u_{tt}\n",
    "$$\n"
   ]
  },
  {
   "cell_type": "markdown",
   "metadata": {
    "collapsed": false
   },
   "source": [
    "#### 4. Analisis de sensibilidad"
   ]
  },
  {
   "cell_type": "markdown",
   "metadata": {},
   "source": [
    "analizando la formula general dado las dimensiones del problema tenemos lo siguiente:\n",
    "\n",
    "$$\n",
    "C = \\frac{u_x\\Delta t}{\\Delta x} + \\frac{u_y\\Delta t}{\\Delta y} \\leq C_{Max}\n",
    "$$\n",
    "Utilizando $C_{Max} = \\cfrac{1}{8 \\cdot 10^{8}}$ por el coeficiente de $ u_{tt} $ y los $u$ sub $x$ e $y$ equivalen a 1 dado sus resppectivos coeficientes.\n",
    "\n",
    "$$\n",
    "C = \\frac{\\Delta t}{\\Delta x} + \\frac{\\Delta t}{\\Delta y} \\leq \\cfrac{1}{8 \\cdot 10^{8}}\n",
    "$$\n",
    "\n",
    "lo que significa que $\\Delta t$ debe ser muy pequeño respecto a los $\\Delta x$ y $\\Delta y$ suponiendo que nuestros $\\Delta $ siempre seran menores que 1. "
   ]
  },
  {
   "cell_type": "markdown",
   "metadata": {},
   "source": [
    "#### 5. Resolucion del problema."
   ]
  },
  {
   "cell_type": "markdown",
   "metadata": {},
   "source": [
    "Dado la forma de nuestro stencil, una cruz tridimencional, debemos contar ahora con planos de valoras iniciales, formando un prisma sin una cara basal, donde esa cara basal que falta representa el tiempo T final que no esta definido, por lo que la region de resolucion de la edp es dentro de este prisma.\n",
    "\n",
    "La resolucion de esta se ira haciendo por capas, tomando cada capa como un paso de t, inicialmente se utiliza algo similar al caso de ondas en 2D, dado que el stencil nos pide un paso -1, pero ese se logra despejado de la funcion para calcular la misma. ahora que tenemos nuestro primer paso del stencil podemos seguir avanzando normalmente con la discretizacion propuesta, dado que tenemos todos los puntos necesarios para calcular el paso +1 de t.\n",
    "\n",
    "Finalmente llegaremos a cierto paso T final, con esto tendremos un prisma formado por la malla representativa de la discretizacion."
   ]
  },
  {
   "cell_type": "markdown",
   "metadata": {},
   "source": [
    "### Analisis práctico"
   ]
  },
  {
   "cell_type": "markdown",
   "metadata": {
    "collapsed": false
   },
   "source": [
    "#### 1. implementacion pde_solver"
   ]
  },
  {
   "cell_type": "code",
   "execution_count": null,
   "metadata": {
    "collapsed": true
   },
   "outputs": [],
   "source": [
    "def pde_solver(h, k, t_max, c, f, g, period=True, alpha=1, beta=1, l=0 , r=0):\n",
    "    Nx = int(2/h) + 1 \n",
    "    Nt = int(t_max/k) + 1\n",
    "    x = np.linspace(-1,1,Nx)\n",
    "    t = np.linspace(0,t_max, Nt)\n",
    "    u = np.zeros((Nx,Nt))\n",
    "    i = np.arange(1,Nx-1)\n",
    "    i = map(int, i)\n",
    "    i = np.array(i)\n",
    "    dx = h\n",
    "    dt = k\n",
    "    sigma_2 = (c(x[i])*dt/dx)**2\n",
    "    print \"sigma cuadrado : \", sigma_2\n",
    "    for j, j_t in enumerate(t):\n",
    "        if j == 0:\n",
    "            u[:,0]= f(x)\n",
    "        elif j==1:\n",
    "            u[ i, j] = 0.5*sigma_2*u[i+1,j-1] + (1 - sigma_2)*u[i,j-1] + 0.5*sigma_2*u[i-1, j-1] + dt*g(x[i])\n",
    "            if period:\n",
    "                u[ 0, j] = 0.5*sigma_2*u[1,j-1] + (1 - sigma_2)*u[0,j-1] + 0.5*sigma_2*u[-2, j-1] + dt*g(x[0])\n",
    "                u[-1, j] = u[0 , j]\n",
    "            else:\n",
    "                u[-1, j] = (dx*r(j_t)+ (1 -beta)*u[-2,j])/(beta*(dx-1)+1)\n",
    "                u[ 0, j] = (dx*l(j_t)-(1-alpha)*u[1,j])/(alpha*(dx+1)-1)\n",
    "        else:\n",
    "            u[i,j] = sigma_2*u[i+1,j-1]+(2-2*sigma_2)*u[i,j-1]+sigma_2*u[i-1,j-1]-u[i,j-2]\n",
    "            if period:\n",
    "                u[ 0, j] = 0.5*sigma_2*u[1,j-1] + (1 - sigma_2)*u[0,j-1] + 0.5*sigma_2*u[-2, j-1] + dt*g(x[0])\n",
    "                u[-1, j] = u[0 , j]\n",
    "            else:\n",
    "                u[-1, j] = (dx*r(j_t)+ (1 -beta)*u[-2,j])/(beta*(dx-1)+1)\n",
    "                u[ 0, j] = (dx*l(j_t)-(1-alpha)*u[1,j])/(alpha*(dx+1)-1)\n",
    "    return x , t , np.transpose(u)"
   ]
  },
  {
   "cell_type": "markdown",
   "metadata": {
    "collapsed": false
   },
   "source": [
    "#### 2.Cálculo longitud de onda y tiempo con 500 puntos"
   ]
  },
  {
   "cell_type": "code",
   "execution_count": null,
   "metadata": {
    "collapsed": true
   },
   "outputs": [],
   "source": [
    "#datos\n",
    "f = lambda x: 100*np.sin(x**2)-100*np.sin(1)\n",
    "g = lambda x: 200*x*np.sin(x**2)\n",
    "c = lambda x: 1\n",
    "l = lambda t: 0\n",
    "r = lambda t: 0\n"
   ]
  },
  {
   "cell_type": "code",
   "execution_count": null,
   "metadata": {
    "collapsed": true
   },
   "outputs": [],
   "source": [
    "#funcion para graficar la superficie\n",
    "def graficar_superficie(x,t,u,titulo):\n",
    "    fig = plt.figure()\n",
    "    ax = fig.gca(projection='3d',title = titulo, xlabel = \"x\", ylabel = \"t\", zlabel=\"u\")\n",
    "    X, T = np.meshgrid(x, t)\n",
    "    surf = ax.plot_surface(X, T, u, rstride=1,cmap=cm.coolwarm,cstride=1,linewidth=0, antialiased=False)\n",
    "    print \"dimension de la matriz: \",X.shape\n",
    "    bul = (u.shape == X.shape and T.shape == u.shape)\n",
    "    plt.show()"
   ]
  },
  {
   "cell_type": "code",
   "execution_count": null,
   "metadata": {
    "collapsed": true
   },
   "outputs": [],
   "source": [
    "# conocer el indice de cierto dato\n",
    "def index_array(A,x):\n",
    "    for i in range(A.shape[0]):\n",
    "        if x == A[i]:\n",
    "            return i\n",
    "    return None"
   ]
  },
  {
   "cell_type": "code",
   "execution_count": null,
   "metadata": {
    "collapsed": true
   },
   "outputs": [],
   "source": [
    "# conocer el indice de cierto dato\n",
    "def index_array_tol(A,x,tol):\n",
    "    for i in range(A.shape[0]):\n",
    "        if A[i] - tol < x and x > A[i] + tol:\n",
    "            return i\n",
    "    return None"
   ]
  },
  {
   "cell_type": "code",
   "execution_count": null,
   "metadata": {
    "collapsed": false
   },
   "outputs": [],
   "source": [
    "def periodo(u,delta_t):\n",
    "    arreglo = u[:][u.shape[1]/(u.shape[1]/2)]\n",
    "    maximo = arreglo.max()\n",
    "    index = arreglo.argmax()\n",
    "    index_2 = index_array(arreglo[index+1:], maximo)\n",
    "    if index_2 != None:\n",
    "        return (index_2 - index)*delta_t\n",
    "    else:\n",
    "        index_2 = index_array_tol(arreglo[index+1:], maximo,0.5)\n",
    "        if index_2 != None:\n",
    "            return abs((index_2 - index)*delta_t)\n",
    "        else:\n",
    "            return \"incalculable para esta presicion e intervalo\"\n",
    "        "
   ]
  },
  {
   "cell_type": "code",
   "execution_count": null,
   "metadata": {
    "collapsed": true
   },
   "outputs": [],
   "source": [
    "def longitud_onda(u,delta_x):\n",
    "    arreglo = u[0][:]\n",
    "    minimo = arreglo.min()\n",
    "    index = arreglo.argmin()\n",
    "    index_2 = index_array(arreglo[index+1:], minimo)\n",
    "    if index_2 != None:\n",
    "        return (index_2 - index)*delta_x\n",
    "    else:\n",
    "        index_2 = index_array_tol(arreglo[index+1:], minimo,0.5)\n",
    "        if index_2 != None:\n",
    "            return abs((index_2 - index)*delta_t)\n",
    "        else:\n",
    "            return \"incalculable para esta presicion e intervalo\""
   ]
  },
  {
   "cell_type": "code",
   "execution_count": null,
   "metadata": {
    "collapsed": false
   },
   "outputs": [],
   "source": [
    "%matplotlib inline\n",
    "# Dirichlet\n",
    "x, t, u = pde_solver(2.0/10, 10.0/50, 10, c, f, g, False , 1, 1, l, r)\n",
    "titulo = \"Dirichlet con h = \" + str(2.0/10)+\"y k = \" + str(10/50)\n",
    "print \"el periodo corresponde a : \" + str(periodo(u,10.0/50)) \n",
    "print \"la longitud de onda corresponde a : \" + str(longitud_onda(u,2.0/10)) \n",
    "graficar_superficie(x,t,u,titulo)"
   ]
  },
  {
   "cell_type": "code",
   "execution_count": null,
   "metadata": {
    "collapsed": false
   },
   "outputs": [],
   "source": [
    "%matplotlib inline\n",
    "# Neumann\n",
    "x, t, u = pde_solver(2.0/10, 4.0/50, 4, c, f, g, False , 0, 0, l, r)\n",
    "titulo = \"Dirichlet con h = \" + str(2.0/10)+\"y k = \" + str(10/50)\n",
    "print \"el periodo corresponde a : \" + str(periodo(u,10.0/50)) \n",
    "print \"la longitud de onda corresponde a : \" + str(longitud_onda(u,2.0/10)) \n",
    "graficar_superficie(x,t,u,titulo)"
   ]
  },
  {
   "cell_type": "code",
   "execution_count": null,
   "metadata": {
    "collapsed": false
   },
   "outputs": [],
   "source": [
    "%matplotlib inline\n",
    "# Mixed, alpha = 1 , beta = 0\n",
    "h = n[m]\n",
    "x, t, u = pde_solver(h,h/10, 4, c, f, g, False , 0, 1, l, r)\n",
    "titulo = \"Mixed: alpha = 1 , beta = 0 con h = \" + str(h)+\"y k = \" + str(h/10)\n",
    "print \"el periodo corresponde a : \" + str(periodo(u,10.0/50)) \n",
    "print \"la longitud de onda corresponde a : \" + str(longitud_onda(u,2.0/10)) \n",
    "graficar_superficie(x,t,u,titulo)\n",
    "\n",
    "\n",
    "\n",
    "# Mixed, alpha = 0 , beta = 1\n",
    "x, t, u = pde_solver(2.0/10, 4.0/50, 4, c, f, g, False , 1, 0, l, r)\n",
    "titulo = \"Mixed: alpha = 0 , beta = 1 con h = \" + str(h)+\"y k = \" + str(h/10)\n",
    "print \"el periodo corresponde a : \" + str(periodo(u,10.0/50)) \n",
    "print \"la longitud de onda corresponde a : \" + str(longitud_onda(u,2.0/10)) \n",
    "graficar_superficie(x,t,u,titulo)"
   ]
  },
  {
   "cell_type": "code",
   "execution_count": null,
   "metadata": {
    "collapsed": false
   },
   "outputs": [],
   "source": [
    "#Periodica\n",
    "x, t, u = pde_solver(2.0/10, 10.0/50, 10, c, f, g)\n",
    "titulo = \"Periodica con h = \" + str(h)+\"y k = \" + str(h/10)\n",
    "print \"el periodo corresponde a : \" + str(periodo(u,10.0/50)) \n",
    "print \"la longitud de onda corresponde a : \" + str(longitud_onda(u,2.0/10)) \n",
    "graficar_superficie(x,t,u,titulo)"
   ]
  },
  {
   "cell_type": "markdown",
   "metadata": {},
   "source": [
    "#### 3.Cálculo longitud de onda y tiempo con malla fina"
   ]
  },
  {
   "cell_type": "code",
   "execution_count": null,
   "metadata": {
    "collapsed": true
   },
   "outputs": [],
   "source": [
    "n = ([2.0/10,2.0/30,2.0/50,2.0/70,2.0/100])"
   ]
  },
  {
   "cell_type": "code",
   "execution_count": null,
   "metadata": {
    "collapsed": false,
    "scrolled": false
   },
   "outputs": [],
   "source": [
    "%matplotlib inline\n",
    "# Dirichlet\n",
    "for m in range(len(n)):\n",
    "    h = n[m]\n",
    "    x, t, u = pde_solver(h/10, h/20, 10, c, f, g, False , 1, 1, l, r)\n",
    "    print \"----------pde_solve listo-------------\"\n",
    "    titulo = \"Dirichlet con h = \" + str(h)+\"y k = \" + str(h/10)\n",
    "    graficar_superficie(x,t,u,titulo)\n",
    "print \"........... FIN DE GRAFICOS ..............\"\n"
   ]
  },
  {
   "cell_type": "code",
   "execution_count": null,
   "metadata": {
    "collapsed": false
   },
   "outputs": [],
   "source": [
    "%matplotlib inline\n",
    "# Neumann\n",
    "for m in range(len(n)):\n",
    "    h = n[m]\n",
    "    x, t, u = pde_solver(h,h/10, 4, c, f, g, False , 0, 0, l, r)\n",
    "    titulo = \"Neumann con h = \" + str(h)+\"y k = \" + str(h/10)\n",
    "    graficar_superficie(x,t,u,titulo)\n",
    "print \"........... FIN DE GRAFICOS ..............\""
   ]
  },
  {
   "cell_type": "code",
   "execution_count": null,
   "metadata": {
    "collapsed": false
   },
   "outputs": [],
   "source": [
    "%matplotlib inline\n",
    "# Mixed, alpha = 1 , beta = 0\n",
    "for m in range(len(n)):\n",
    "    h = n[m]\n",
    "    x, t, u = pde_solver(h,h/10, 4, c, f, g, False , 0, 1, l, r)\n",
    "    titulo = \"Mixed: alpha = 1 , beta = 0 con h = \" + str(h)+\"y k = \" + str(h/10)\n",
    "    graficar_superficie(x,t,u,titulo)\n",
    "\n",
    "\n",
    "\n",
    "# Mixed, alpha = 0 , beta = 1\n",
    "for m in range(len(n)):\n",
    "    h = n[m]\n",
    "    x, t, u = pde_solver(h, h/10, 4, c, f, g, False , 1, 0, l, r)\n",
    "    titulo = \"Mixed: alpha = 0 , beta = 1 con h = \" + str(h)+\"y k = \" + str(h/10)\n",
    "    graficar_superficie(x,t,u,titulo)\n",
    "print \"........... FIN DE GRAFICOS ..............\""
   ]
  },
  {
   "cell_type": "code",
   "execution_count": null,
   "metadata": {
    "collapsed": false
   },
   "outputs": [],
   "source": [
    "\n",
    "# Periodica\n",
    "for m in range(len(n)):\n",
    "    h = n[m]\n",
    "    x, t, u = pde_solver(h, h/10, 10, c, f, g)\n",
    "    titulo = \"Periodica con h = \" + str(h)+\"y k = \" + str(h/10)\n",
    "    graficar_superficie(x,t,u,titulo)\n",
    "print \"........... FIN DE GRAFICOS ..............\""
   ]
  },
  {
   "cell_type": "markdown",
   "metadata": {
    "collapsed": false
   },
   "source": [
    "#### 4. Inestabilidad"
   ]
  },
  {
   "cell_type": "code",
   "execution_count": null,
   "metadata": {
    "collapsed": true
   },
   "outputs": [],
   "source": [
    "h = 2.0/70"
   ]
  },
  {
   "cell_type": "code",
   "execution_count": null,
   "metadata": {
    "collapsed": false
   },
   "outputs": [],
   "source": [
    "%matplotlib inline\n",
    "# Dirichlet Inestable\n",
    "x, t, u = pde_solver(h/10, h*2, 10, c, f, g, False , 1, 1, l, r)\n",
    "titulo = \"Dirichlet inestable con h = \" + str(h)+\"y k = \" + str(h*2)\n",
    "graficar_superficie(x,t,u,titulo)"
   ]
  },
  {
   "cell_type": "code",
   "execution_count": null,
   "metadata": {
    "collapsed": true
   },
   "outputs": [],
   "source": [
    "%matplotlib inline\n",
    "# Neumann inestable\n",
    "x, t, u = pde_solver(h,h*2, 4, c, f, g, False , 0, 0, l, r)\n",
    "titulo = \"Neumann inestable con h = \" + str(h)+\"y k = \" + str(h*2)\n",
    "graficar_superficie(x,t,u,titulo)"
   ]
  },
  {
   "cell_type": "code",
   "execution_count": null,
   "metadata": {
    "collapsed": true
   },
   "outputs": [],
   "source": [
    "%matplotlib inline\n",
    "# Mixed inestable, alpha = 1 , beta = 0\n",
    "\n",
    "x, t, u = pde_solver(h,h/10, 4, c, f, g, False , 0, 1, l, r)\n",
    "titulo = \"Mixed inestable: alpha = 1 , beta = 0 con h = \" + str(h)+\"y k = \" + str(h/10)\n",
    "graficar_superficie(x,t,u,titulo)\n",
    "\n",
    "\n",
    "# Mixed inestable, alpha = 0 , beta = 1\n",
    "\n",
    "x, t, u = pde_solver(h, h*2, 4, c, f, g, False , 1, 0, l, r)\n",
    "titulo = \"Mixed Inestable: alpha = 0 , beta = 1 con h = \" + str(h)+\"y k = \" + str(h/10)\n",
    "graficar_superficie(x,t,u,titulo)\n"
   ]
  },
  {
   "cell_type": "code",
   "execution_count": null,
   "metadata": {
    "collapsed": true
   },
   "outputs": [],
   "source": [
    "# Periodica\n",
    "for m in range(len(n)):\n",
    "    h = n[m]\n",
    "    x, t, u = pde_solver(h, h/10, 10, c, f, g)\n",
    "    titulo = \"Periodica con h = \" + str(h)+\"y k = \" + str(h/10)\n",
    "    graficar_superficie(x,t,u,titulo)"
   ]
  },
  {
   "cell_type": "markdown",
   "metadata": {
    "collapsed": true
   },
   "source": []
  },
  {
   "cell_type": "markdown",
   "metadata": {},
   "source": [
    "### Conclusión:"
   ]
  },
  {
   "cell_type": "markdown",
   "metadata": {
    "collapsed": true
   },
   "source": []
  },
  {
   "cell_type": "markdown",
   "metadata": {},
   "source": [
    "\n"
   ]
  },
  {
   "cell_type": "markdown",
   "metadata": {},
   "source": [
    "### Referencias"
   ]
  },
  {
   "cell_type": "markdown",
   "metadata": {},
   "source": [
    "http://matplotlib.org/examples/mplot3d/surface3d_demo.html\n",
    "\n",
    "https://es.wikipedia.org/wiki/Prisma_(geometr%C3%ADa)\n"
   ]
  },
  {
   "cell_type": "code",
   "execution_count": null,
   "metadata": {
    "collapsed": true
   },
   "outputs": [],
   "source": []
  }
 ],
 "metadata": {
  "kernelspec": {
   "display_name": "Python 2",
   "language": "python",
   "name": "python2"
  },
  "language_info": {
   "codemirror_mode": {
    "name": "ipython",
    "version": 2
   },
   "file_extension": ".py",
   "mimetype": "text/x-python",
   "name": "python",
   "nbconvert_exporter": "python",
   "pygments_lexer": "ipython2",
   "version": "2.7.11"
  }
 },
 "nbformat": 4,
 "nbformat_minor": 0
}
