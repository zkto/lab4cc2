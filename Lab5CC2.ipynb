{
 "cells": [
  {
   "cell_type": "markdown",
   "metadata": {},
   "source": [
    "# Computación Científica II\n",
    "## Laboratorio  #4\n",
    "    \n",
    "   Gabriela González Toledo      gabriela.gonzalez@alumnos.usm.cl  201173017-8\n",
    "   \n",
    "   Ian Zamorano Escobedo         Ian.zamorano.12@sansano.usm.cl    201273018-k"
   ]
  },
  {
   "cell_type": "code",
   "execution_count": 2,
   "metadata": {
    "collapsed": false
   },
   "outputs": [],
   "source": [
    "from mpl_toolkits.mplot3d import Axes3D\n",
    "import numpy as np\n",
    "import matplotlib.pyplot as plt\n",
    "from numpy import linalg as LA\n",
    "\n",
    "import timeit\n",
    "from math import ceil, floor\n",
    "from sympy import *\n",
    "from sympy.abc import *\n",
    "from scipy.special import gamma\n",
    "\n",
    "#%load_ext line_profiler"
   ]
  },
  {
   "cell_type": "markdown",
   "metadata": {},
   "source": [
    "### Introducción:"
   ]
  },
  {
   "cell_type": "markdown",
   "metadata": {},
   "source": [
    "En este laboratorio trabajaremos en la resolución del modelo propuesto por FitzHugh-Nagumo, en primera instancia lo resolveremos mediante Diferencias Finitas utilizando dos métodos de discretización(backward/forward).  En la segunda parte resolveremos el modelo mediante el método de las líneas y finalmente probaremos nuestras implementaciones con distintos parámetros para decidir qué metodo  tiene un mejor desempeño."
   ]
  },
  {
   "cell_type": "markdown",
   "metadata": {},
   "source": [
    "### Diferencias Finitas en 2D"
   ]
  },
  {
   "cell_type": "markdown",
   "metadata": {},
   "source": [
    "#### 1. Esquema de discretización forward:"
   ]
  },
  {
   "cell_type": "markdown",
   "metadata": {
    "collapsed": false
   },
   "source": [
    "$$\n",
    "\\partial_t u = D_u \\Delta u + \\lambda u - u^3 - \\kappa - \\sigma􀀀 \u001bv\n",
    "$$\n",
    "$$\n",
    "\\tau \\partial_t v = D_v \\Delta v + u -􀀀 \u001bv\n",
    "$$\n",
    "\n",
    "$$\n",
    "u \\rightarrow w\n",
    "$$\n",
    "\n",
    "$$\n",
    "v \\rightarrow q\n",
    "$$\n",
    "\n",
    "$$\n",
    "w_{i,j,k} = u(x_i,y_j,t_k) = u(i\\Delta x, j\\Delta y, k \\Delta t) \\qquad i,j,k \\in \\{1,2,3, \\dots , N\\}\n",
    "$$\n",
    "$$\n",
    "q_{i,j,k} = v(x_i,y_j,t_k) = v(i\\Delta x, j\\Delta y, k \\Delta t) \\qquad i,j,k \\in \\{1,2,3, \\dots , N\\}\n",
    "$$\n",
    "\n",
    "$$\n",
    "w_{xx} = \\cfrac{w_{i-1,j,k} - 2 w_{i,j,k} + w_{i+1,j,k}}{\\Delta x^{2}}\n",
    "$$\n",
    "\n",
    "$$\n",
    "w_{yy} = \\cfrac{w_{i,j-1,k} - 2 w_{i,j,k} + w_{i,j+1,k}}{\\Delta y^{2}}\n",
    "$$\n",
    "\n",
    "$$\n",
    "w_{t} = \\cfrac{w_{i,j,k+1} - w_{i,j,k}}{\\Delta t}\n",
    "$$\n",
    "\n",
    "\n",
    "\n",
    "$$\n",
    "\\cfrac{w_{i,j,k+1} - w_{i,j,k}}{\\Delta t} = D_w \\left( \\cfrac{w_{i-1,j,k} - 2 w_{i,j,k} + w_{i+1,j,k}}{\\Delta x^{2}} + \\cfrac{w_{i,j-1,k} - 2 w_{i,j,k} + w_{i,j+1,k}}{\\Delta y^{2}} \\right) + \\lambda w_{i,j,k} - w_{i,j,k}^3 - \\kappa - \\sigma􀀀 \u001bq_{i,j,k}\n",
    "$$\n",
    "\n",
    "$$\n",
    "\\tau \\cfrac{q_{i,j,k+1} - q_{i,j,k}}{\\Delta t} = D_q \\left( \\cfrac{q_{i-1,j,k} - 2 q_{i,j,k} + q_{i+1,j,k}}{\\Delta x^{2}} + \\cfrac{q_{i,j-1,k} - 2 q_{i,j,k} + q_{i,j+1,k}}{\\Delta y^{2}} \\right) +  w_{i,j,k} -􀀀 \u001b q_{i,j,k}\n",
    "$$\n",
    "\n",
    "$$\n",
    "~\n",
    "$$\n",
    "\n",
    "$$\n",
    "w_{i,j,k+1}  = \\Delta t \\left[ D_w \\left( \\cfrac{w_{i-1,j,k} - 2 w_{i,j,k} + w_{i+1,j,k}}{\\Delta x^{2}} + \\cfrac{w_{i,j-1,k} - 2 w_{i,j,k} + w_{i,j+1,k}}{\\Delta y^{2}} \\right) + \\lambda w_{i,j,k} - w_{i,j,k}^3 - \\kappa - \\sigma􀀀 \u001bq_{i,j,k} \\right] + w_{i,j,k}\n",
    "$$\n",
    "\n",
    "$$\n",
    "q_{i,j,k+1}  = \\cfrac{ \\Delta t \\left[ D_q \\left( \\cfrac{q_{i-1,j,k} - 2 q_{i,j,k} + q_{i+1,j,k}}{\\Delta x^{2}} + \\cfrac{q_{i,j-1,k} - 2 q_{i,j,k} + q_{i,j+1,k}}{\\Delta y^{2}} \\right) +  w_{i,j,k} -􀀀 \u001b q_{i,j,k} \\right]}{\\tau } + q_{i,j,k}\n",
    "$$\n"
   ]
  },
  {
   "cell_type": "markdown",
   "metadata": {},
   "source": [
    "#### 2. Desarrollo solve fordward:"
   ]
  },
  {
   "cell_type": "code",
   "execution_count": 4,
   "metadata": {
    "collapsed": false
   },
   "outputs": [],
   "source": [
    "from scipy import sparse\n",
    "def tridiag_forward(dimension, tupla):\n",
    "    a,b = dimension\n",
    "    dl = tupla[0] * np.ones(b)\n",
    "    du = tupla[1] * np.ones(b)\n",
    "    d0 = tupla[2] * np.ones(b)\n",
    "    d = np.vstack((dl, du, d0))\n",
    "    A = sparse.spdiags(d, (-1, 0, 1), a, b)\n",
    "    A  = A.todense()\n",
    "    A[:,-1][0,:]=tupla[2]\n",
    "    A[-1,:][:,0]=tupla[0]\n",
    "    return A"
   ]
  },
  {
   "cell_type": "code",
   "execution_count": 10,
   "metadata": {
    "collapsed": false
   },
   "outputs": [],
   "source": [
    "p = np.array([[1,2,2,1,0], [2,5,4,2,0], [3,4,5,3,0], [2,2,2,2,0]])\n",
    "T = np.array([[-2,1,0,0,1], [1,-2,1,0,0], [0,1,-2,1,0], [0,0,1,-2,1], [1,0,0,1,-2]])\n",
    "\n",
    "def solve_forward(u,v, delta_x, delta_y, delta_t, T_f, D_w, D_q, l, tau, sigma, kappa):\n",
    "    U = np.zeros(((T_f/delta_t + 1),u.shape[0], u.shape[1]), dtype=np.float)\n",
    "    V = np.zeros(((T_f/delta_t + 1),v.shape[0], v.shape[1]), dtype=np.float)\n",
    "    T_x = tridiag_forward((u.shape[1],u.shape[1]),(1/delta_x**2,-2/delta_x**2,1/delta_x**2))\n",
    "    T_y = tridiag_forward((v.shape[1],v.shape[1]),(1/delta_y**2,-2/delta_y**2,1/delta_y**2))\n",
    "    for i in range(T_f/delta_t ):\n",
    "        U[i+1] = delta_t*(np.dot(D_w,(np.dot(U[i],T_x) + np.dot(np.transpose(U[i])),T_x)) + l*U[i] - LA.matrix_power(U[i],3) - kappa - np.dot(sigma, V[i]) ) + U[i]\n",
    "        V[i+1] = (delta_t/tau)*(np.dot(D_q,(np.dot(U[i],T_y) + np.dot(np.transpose(U[i])),T_y))  + U[i] -V[i])\n",
    "    return U,V"
   ]
  },
  {
   "cell_type": "code",
   "execution_count": 12,
   "metadata": {
    "collapsed": false
   },
   "outputs": [
    {
     "ename": "TypeError",
     "evalue": "Required argument 'b' (pos 2) not found",
     "output_type": "error",
     "traceback": [
      "\u001b[1;31m---------------------------------------------------------------------------\u001b[0m",
      "\u001b[1;31mTypeError\u001b[0m                                 Traceback (most recent call last)",
      "\u001b[1;32m<ipython-input-12-b993e8522006>\u001b[0m in \u001b[0;36m<module>\u001b[1;34m()\u001b[0m\n\u001b[0;32m      1\u001b[0m \u001b[0mu_0\u001b[0m \u001b[1;33m=\u001b[0m \u001b[0mnp\u001b[0m\u001b[1;33m.\u001b[0m\u001b[0mrandom\u001b[0m\u001b[1;33m.\u001b[0m\u001b[0mrand\u001b[0m\u001b[1;33m(\u001b[0m\u001b[1;36m5\u001b[0m\u001b[1;33m,\u001b[0m\u001b[1;36m5\u001b[0m\u001b[1;33m)\u001b[0m\u001b[1;33m\u001b[0m\u001b[0m\n\u001b[0;32m      2\u001b[0m \u001b[0mv_0\u001b[0m \u001b[1;33m=\u001b[0m \u001b[0mnp\u001b[0m\u001b[1;33m.\u001b[0m\u001b[0mrandom\u001b[0m\u001b[1;33m.\u001b[0m\u001b[0mrand\u001b[0m\u001b[1;33m(\u001b[0m\u001b[1;36m5\u001b[0m\u001b[1;33m,\u001b[0m\u001b[1;36m5\u001b[0m\u001b[1;33m)\u001b[0m\u001b[1;33m\u001b[0m\u001b[0m\n\u001b[1;32m----> 3\u001b[1;33m \u001b[0msol\u001b[0m \u001b[1;33m=\u001b[0m\u001b[0msolve_forward\u001b[0m\u001b[1;33m(\u001b[0m\u001b[0mu_0\u001b[0m \u001b[1;33m,\u001b[0m \u001b[0mv_0\u001b[0m \u001b[1;33m,\u001b[0m \u001b[1;36m1.0\u001b[0m\u001b[1;33m/\u001b[0m\u001b[1;36m50\u001b[0m \u001b[1;33m,\u001b[0m \u001b[1;36m1.\u001b[0m\u001b[1;33m/\u001b[0m\u001b[1;36m50\u001b[0m\u001b[1;33m,\u001b[0m \u001b[1;36m2\u001b[0m\u001b[1;33m,\u001b[0m \u001b[1;36m10\u001b[0m \u001b[1;33m,\u001b[0m \u001b[1;36m0.0003\u001b[0m\u001b[1;33m,\u001b[0m \u001b[1;36m0.004\u001b[0m\u001b[1;33m,\u001b[0m \u001b[1;36m1.0\u001b[0m\u001b[1;33m,\u001b[0m \u001b[1;36m0.2\u001b[0m\u001b[1;33m,\u001b[0m \u001b[1;36m1.0\u001b[0m\u001b[1;33m,\u001b[0m \u001b[1;33m-\u001b[0m\u001b[1;36m0.004\u001b[0m\u001b[1;33m)\u001b[0m\u001b[1;33m\u001b[0m\u001b[0m\n\u001b[0m\u001b[0;32m      4\u001b[0m \u001b[1;32mprint\u001b[0m \u001b[0mnp\u001b[0m\u001b[1;33m.\u001b[0m\u001b[0mshape\u001b[0m\u001b[1;33m(\u001b[0m\u001b[0msol\u001b[0m\u001b[1;33m)\u001b[0m\u001b[1;33m\u001b[0m\u001b[0m\n",
      "\u001b[1;32m<ipython-input-10-d304cb035a3e>\u001b[0m in \u001b[0;36msolve_forward\u001b[1;34m(u, v, delta_x, delta_y, delta_t, T_f, D_w, D_q, l, tau, sigma, kappa)\u001b[0m\n\u001b[0;32m      8\u001b[0m     \u001b[0mT_y\u001b[0m \u001b[1;33m=\u001b[0m \u001b[0mtridiag_forward\u001b[0m\u001b[1;33m(\u001b[0m\u001b[1;33m(\u001b[0m\u001b[0mv\u001b[0m\u001b[1;33m.\u001b[0m\u001b[0mshape\u001b[0m\u001b[1;33m[\u001b[0m\u001b[1;36m1\u001b[0m\u001b[1;33m]\u001b[0m\u001b[1;33m,\u001b[0m\u001b[0mv\u001b[0m\u001b[1;33m.\u001b[0m\u001b[0mshape\u001b[0m\u001b[1;33m[\u001b[0m\u001b[1;36m1\u001b[0m\u001b[1;33m]\u001b[0m\u001b[1;33m)\u001b[0m\u001b[1;33m,\u001b[0m\u001b[1;33m(\u001b[0m\u001b[1;36m1\u001b[0m\u001b[1;33m/\u001b[0m\u001b[0mdelta_y\u001b[0m\u001b[1;33m**\u001b[0m\u001b[1;36m2\u001b[0m\u001b[1;33m,\u001b[0m\u001b[1;33m-\u001b[0m\u001b[1;36m2\u001b[0m\u001b[1;33m/\u001b[0m\u001b[0mdelta_y\u001b[0m\u001b[1;33m**\u001b[0m\u001b[1;36m2\u001b[0m\u001b[1;33m,\u001b[0m\u001b[1;36m1\u001b[0m\u001b[1;33m/\u001b[0m\u001b[0mdelta_y\u001b[0m\u001b[1;33m**\u001b[0m\u001b[1;36m2\u001b[0m\u001b[1;33m)\u001b[0m\u001b[1;33m)\u001b[0m\u001b[1;33m\u001b[0m\u001b[0m\n\u001b[0;32m      9\u001b[0m     \u001b[1;32mfor\u001b[0m \u001b[0mi\u001b[0m \u001b[1;32min\u001b[0m \u001b[0mrange\u001b[0m\u001b[1;33m(\u001b[0m\u001b[0mT_f\u001b[0m\u001b[1;33m/\u001b[0m\u001b[0mdelta_t\u001b[0m \u001b[1;33m)\u001b[0m\u001b[1;33m:\u001b[0m\u001b[1;33m\u001b[0m\u001b[0m\n\u001b[1;32m---> 10\u001b[1;33m         \u001b[0mU\u001b[0m\u001b[1;33m[\u001b[0m\u001b[0mi\u001b[0m\u001b[1;33m+\u001b[0m\u001b[1;36m1\u001b[0m\u001b[1;33m]\u001b[0m \u001b[1;33m=\u001b[0m \u001b[0mdelta_t\u001b[0m\u001b[1;33m*\u001b[0m\u001b[1;33m(\u001b[0m\u001b[0mnp\u001b[0m\u001b[1;33m.\u001b[0m\u001b[0mdot\u001b[0m\u001b[1;33m(\u001b[0m\u001b[0mD_w\u001b[0m\u001b[1;33m,\u001b[0m\u001b[1;33m(\u001b[0m\u001b[0mnp\u001b[0m\u001b[1;33m.\u001b[0m\u001b[0mdot\u001b[0m\u001b[1;33m(\u001b[0m\u001b[0mU\u001b[0m\u001b[1;33m[\u001b[0m\u001b[0mi\u001b[0m\u001b[1;33m]\u001b[0m\u001b[1;33m,\u001b[0m\u001b[0mT_x\u001b[0m\u001b[1;33m)\u001b[0m \u001b[1;33m+\u001b[0m \u001b[0mnp\u001b[0m\u001b[1;33m.\u001b[0m\u001b[0mdot\u001b[0m\u001b[1;33m(\u001b[0m\u001b[0mnp\u001b[0m\u001b[1;33m.\u001b[0m\u001b[0mtranspose\u001b[0m\u001b[1;33m(\u001b[0m\u001b[0mU\u001b[0m\u001b[1;33m[\u001b[0m\u001b[0mi\u001b[0m\u001b[1;33m]\u001b[0m\u001b[1;33m)\u001b[0m\u001b[1;33m)\u001b[0m\u001b[1;33m,\u001b[0m\u001b[0mT_x\u001b[0m\u001b[1;33m)\u001b[0m\u001b[1;33m)\u001b[0m \u001b[1;33m+\u001b[0m \u001b[0ml\u001b[0m\u001b[1;33m*\u001b[0m\u001b[0mU\u001b[0m\u001b[1;33m[\u001b[0m\u001b[0mi\u001b[0m\u001b[1;33m]\u001b[0m \u001b[1;33m-\u001b[0m \u001b[0mLA\u001b[0m\u001b[1;33m.\u001b[0m\u001b[0mmatrix_power\u001b[0m\u001b[1;33m(\u001b[0m\u001b[0mU\u001b[0m\u001b[1;33m[\u001b[0m\u001b[0mi\u001b[0m\u001b[1;33m]\u001b[0m\u001b[1;33m,\u001b[0m\u001b[1;36m3\u001b[0m\u001b[1;33m)\u001b[0m \u001b[1;33m-\u001b[0m \u001b[0mkappa\u001b[0m \u001b[1;33m-\u001b[0m \u001b[0mnp\u001b[0m\u001b[1;33m.\u001b[0m\u001b[0mdot\u001b[0m\u001b[1;33m(\u001b[0m\u001b[0msigma\u001b[0m\u001b[1;33m,\u001b[0m \u001b[0mV\u001b[0m\u001b[1;33m[\u001b[0m\u001b[0mi\u001b[0m\u001b[1;33m]\u001b[0m\u001b[1;33m)\u001b[0m \u001b[1;33m)\u001b[0m \u001b[1;33m+\u001b[0m \u001b[0mU\u001b[0m\u001b[1;33m[\u001b[0m\u001b[0mi\u001b[0m\u001b[1;33m]\u001b[0m\u001b[1;33m\u001b[0m\u001b[0m\n\u001b[0m\u001b[0;32m     11\u001b[0m         \u001b[0mV\u001b[0m\u001b[1;33m[\u001b[0m\u001b[0mi\u001b[0m\u001b[1;33m+\u001b[0m\u001b[1;36m1\u001b[0m\u001b[1;33m]\u001b[0m \u001b[1;33m=\u001b[0m \u001b[1;33m(\u001b[0m\u001b[0mdelta_t\u001b[0m\u001b[1;33m/\u001b[0m\u001b[0mtau\u001b[0m\u001b[1;33m)\u001b[0m\u001b[1;33m*\u001b[0m\u001b[1;33m(\u001b[0m\u001b[0mnp\u001b[0m\u001b[1;33m.\u001b[0m\u001b[0mdot\u001b[0m\u001b[1;33m(\u001b[0m\u001b[0mD_q\u001b[0m\u001b[1;33m,\u001b[0m\u001b[1;33m(\u001b[0m\u001b[0mnp\u001b[0m\u001b[1;33m.\u001b[0m\u001b[0mdot\u001b[0m\u001b[1;33m(\u001b[0m\u001b[0mU\u001b[0m\u001b[1;33m[\u001b[0m\u001b[0mi\u001b[0m\u001b[1;33m]\u001b[0m\u001b[1;33m,\u001b[0m\u001b[0mT_y\u001b[0m\u001b[1;33m)\u001b[0m \u001b[1;33m+\u001b[0m \u001b[0mnp\u001b[0m\u001b[1;33m.\u001b[0m\u001b[0mdot\u001b[0m\u001b[1;33m(\u001b[0m\u001b[0mnp\u001b[0m\u001b[1;33m.\u001b[0m\u001b[0mtranspose\u001b[0m\u001b[1;33m(\u001b[0m\u001b[0mU\u001b[0m\u001b[1;33m[\u001b[0m\u001b[0mi\u001b[0m\u001b[1;33m]\u001b[0m\u001b[1;33m)\u001b[0m\u001b[1;33m)\u001b[0m\u001b[1;33m,\u001b[0m\u001b[0mT_y\u001b[0m\u001b[1;33m)\u001b[0m\u001b[1;33m)\u001b[0m  \u001b[1;33m+\u001b[0m \u001b[0mU\u001b[0m\u001b[1;33m[\u001b[0m\u001b[0mi\u001b[0m\u001b[1;33m]\u001b[0m \u001b[1;33m-\u001b[0m\u001b[0mV\u001b[0m\u001b[1;33m[\u001b[0m\u001b[0mi\u001b[0m\u001b[1;33m]\u001b[0m\u001b[1;33m)\u001b[0m\u001b[1;33m\u001b[0m\u001b[0m\n\u001b[0;32m     12\u001b[0m     \u001b[1;32mreturn\u001b[0m \u001b[0mU\u001b[0m\u001b[1;33m,\u001b[0m\u001b[0mV\u001b[0m\u001b[1;33m\u001b[0m\u001b[0m\n",
      "\u001b[1;31mTypeError\u001b[0m: Required argument 'b' (pos 2) not found"
     ]
    }
   ],
   "source": [
    "u_0 = np.random.rand(5,5)\n",
    "v_0 = np.random.rand(5,5)\n",
    "sol =solve_forward(u_0 , v_0 , 1.0/50 , 1./50, 2, 10 , 0.0003, 0.004, 1.0, 0.2, 1.0, -0.004)\n",
    "print np.shape(sol)"
   ]
  },
  {
   "cell_type": "markdown",
   "metadata": {},
   "source": [
    "\n"
   ]
  },
  {
   "cell_type": "markdown",
   "metadata": {},
   "source": [
    "### Simulaciones"
   ]
  },
  {
   "cell_type": "markdown",
   "metadata": {
    "collapsed": false
   },
   "source": [
    "#### 1. Parámetros"
   ]
  },
  {
   "cell_type": "markdown",
   "metadata": {
    "collapsed": true
   },
   "source": []
  },
  {
   "cell_type": "markdown",
   "metadata": {
    "collapsed": false
   },
   "source": [
    "#### 2.Animación"
   ]
  },
  {
   "cell_type": "code",
   "execution_count": 38,
   "metadata": {
    "collapsed": false
   },
   "outputs": [],
   "source": [
    "def animate_pattern(sol, time_step=10, frame_step=20):\n",
    "    #time index\n",
    "    t_ind = 0\n",
    "    fig = plt.figure()\n",
    "    im = plt.imshow(sol[t_ind], cmap=plt.cm.winter)\n",
    "    plt.xticks([]); plt.yticks([])\n",
    "\n",
    "    #setting the number of frames\n",
    "    frames = int(sol.shape[0]/frame_step)\n",
    "    \n",
    "    #update function\n",
    "    def updatefig(t_ind):\n",
    "        im = plt.imshow(sol[t_ind*frame_step], cmap=plt.cm.winter)\n",
    "        return im,\n",
    "    \n",
    "    #animate it!\n",
    "    ani = animation.FuncAnimation(fig, updatefig, frames=frames, \n",
    "                    interval=time_step, blit=True, repeat=False)\n",
    "    plt.show()"
   ]
  },
  {
   "cell_type": "markdown",
   "metadata": {},
   "source": [
    "### Conclusión:"
   ]
  },
  {
   "cell_type": "markdown",
   "metadata": {
    "collapsed": true
   },
   "source": []
  },
  {
   "cell_type": "markdown",
   "metadata": {},
   "source": [
    "\n"
   ]
  },
  {
   "cell_type": "code",
   "execution_count": null,
   "metadata": {
    "collapsed": true
   },
   "outputs": [],
   "source": []
  },
  {
   "cell_type": "markdown",
   "metadata": {},
   "source": [
    "### Referencias:"
   ]
  },
  {
   "cell_type": "markdown",
   "metadata": {},
   "source": []
  }
 ],
 "metadata": {
  "kernelspec": {
   "display_name": "Python 2",
   "language": "python",
   "name": "python2"
  },
  "language_info": {
   "codemirror_mode": {
    "name": "ipython",
    "version": 2
   },
   "file_extension": ".py",
   "mimetype": "text/x-python",
   "name": "python",
   "nbconvert_exporter": "python",
   "pygments_lexer": "ipython2",
   "version": "2.7.10"
  }
 },
 "nbformat": 4,
 "nbformat_minor": 0
}
