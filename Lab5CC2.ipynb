{
 "cells": [
  {
   "cell_type": "markdown",
   "metadata": {},
   "source": [
    "# Computación Científica II\n",
    "## Laboratorio  #4\n",
    "    \n",
    "   Gabriela González Toledo      gabriela.gonzalez@alumnos.usm.cl  201173017-8\n",
    "   \n",
    "   Ian Zamorano Escobedo         Ian.zamorano.12@sansano.usm.cl    201273018-k"
   ]
  },
  {
   "cell_type": "code",
   "execution_count": 2,
   "metadata": {
    "collapsed": false
   },
   "outputs": [],
   "source": [
    "from mpl_toolkits.mplot3d import Axes3D\n",
    "import numpy as np\n",
    "import matplotlib.pyplot as plt\n",
    "\n",
    "import timeit\n",
    "from math import ceil, floor\n",
    "from sympy import *\n",
    "from sympy.abc import *\n",
    "from scipy.special import gamma\n",
    "\n",
    "#%load_ext line_profiler"
   ]
  },
  {
   "cell_type": "markdown",
   "metadata": {},
   "source": [
    "### Introducción:"
   ]
  },
  {
   "cell_type": "markdown",
   "metadata": {},
   "source": [
    "El presente laboratorio tiene como objetivo comprender y aplicar los métodos de Integración Numérica. Para esto implementaremos  los cuatro métodos vistos en clases. En la primera parte trabajaremos aplicando los métodos a una integral impropia, haciendo un cambio de variable y calculando los tiempos de ejecución de cada método. La segunda parte consta de implementar un método para calcular derivadas fraccionarias y hacer cálculos de algunas derivadas para luego analizar su comportamiento al variar la fracción entre sus enteros superior e inferior."
   ]
  },
  {
   "cell_type": "markdown",
   "metadata": {},
   "source": [
    "### Diferencias Finitas en 2D"
   ]
  },
  {
   "cell_type": "markdown",
   "metadata": {},
   "source": [
    "#### 1. Esquema de discretización forward:"
   ]
  },
  {
   "cell_type": "markdown",
   "metadata": {
    "collapsed": false
   },
   "source": [
    "$$\n",
    "\\partial_t u = D_u \\Delta u + \\lambda u - u^3 - \\kappa - \\sigma􀀀 \u001bv\n",
    "$$\n",
    "$$\n",
    "\\tau \\partial_t v = D_v \\Delta v + u -􀀀 \u001bv\n",
    "$$\n",
    "\n",
    "$$\n",
    "u \\rightarrow w\n",
    "$$\n",
    "\n",
    "$$\n",
    "v \\rightarrow q\n",
    "$$\n",
    "\n",
    "$$\n",
    "w_{i,j,k} = u(x_i,y_j,t_k) = u(i\\Delta x, j\\Delta y, k \\Delta t) \\qquad i,j,k \\in \\{1,2,3, \\dots , N\\}\n",
    "$$\n",
    "$$\n",
    "q_{i,j,k} = v(x_i,y_j,t_k) = v(i\\Delta x, j\\Delta y, k \\Delta t) \\qquad i,j,k \\in \\{1,2,3, \\dots , N\\}\n",
    "$$\n",
    "\n",
    "$$\n",
    "w_{xx} = \\cfrac{w_{i-1,j,k} - 2 w_{i,j,k} + w_{i+1,j,k}}{\\Delta x^{2}}\n",
    "$$\n",
    "\n",
    "$$\n",
    "w_{yy} = \\cfrac{w_{i,j-1,k} - 2 w_{i,j,k} + w_{i,j+1,k}}{\\Delta y^{2}}\n",
    "$$\n",
    "\n",
    "$$\n",
    "w_{t} = \\cfrac{w_{i,j,k+1} - w_{i,j,k}}{\\Delta t}\n",
    "$$\n",
    "\n",
    "\n",
    "\n",
    "$$\n",
    "\\cfrac{w_{i,j,k+1} - w_{i,j,k}}{\\Delta t} = D_w \\left( \\cfrac{w_{i-1,j,k} - 2 w_{i,j,k} + w_{i+1,j,k}}{\\Delta x^{2}} + \\cfrac{w_{i-1,j,k} - 2 w_{i,j,k} + w_{i+1,j,k}}{\\Delta x^{2}} \\right) + \\lambda w_{i,j,k} - w_{i,j,k}^3 - \\kappa - \\sigma􀀀 \u001bq_{i,j,k}\n",
    "$$\n",
    "\n",
    "$$\n",
    "\\tau \\cfrac{q_{i,j,k+1} - q_{i,j,k}}{\\Delta t} = D_q \\left( \\cfrac{q_{i-1,j,k} - 2 q_{i,j,k} + q_{i+1,j,k}}{\\Delta x^{2}} + \\cfrac{q_{i-1,j,k} - 2 q_{i,j,k} + q_{i+1,j,k}}{\\Delta x^{2}} \\right) +  w_{i,j,k} -􀀀 \u001b q_{i,j,k}\n",
    "$$\n",
    "\n",
    "$$\n",
    "~\n",
    "$$\n",
    "\n",
    "$$\n",
    "w_{i,j,k+1}  = \\Delta t \\left[ D_w \\left( \\cfrac{w_{i-1,j,k} - 2 w_{i,j,k} + w_{i+1,j,k}}{\\Delta x^{2}} + \\cfrac{w_{i-1,j,k} - 2 w_{i,j,k} + w_{i+1,j,k}}{\\Delta x^{2}} \\right) + \\lambda w_{i,j,k} - w_{i,j,k}^3 - \\kappa - \\sigma􀀀 \u001bq_{i,j,k} \\right] + w_{i,j,k}\n",
    "$$\n",
    "\n",
    "$$\n",
    "q_{i,j,k+1}  = \\cfrac{ \\Delta t \\left[ D_q \\left( \\cfrac{q_{i-1,j,k} - 2 q_{i,j,k} + q_{i+1,j,k}}{\\Delta x^{2}} + \\cfrac{q_{i-1,j,k} - 2 q_{i,j,k} + q_{i+1,j,k}}{\\Delta x^{2}} \\right) +  w_{i,j,k} -􀀀 \u001b q_{i,j,k} \\right]}{\\tau } + q_{i,j,k}\n",
    "$$\n"
   ]
  },
  {
   "cell_type": "markdown",
   "metadata": {},
   "source": [
    "#### 2. Desarrollo solve fordward:"
   ]
  },
  {
   "cell_type": "code",
   "execution_count": 18,
   "metadata": {
    "collapsed": false
   },
   "outputs": [
    {
     "name": "stdout",
     "output_type": "stream",
     "text": [
      "[[ 0  1  0  0]\n",
      " [ 0 -2  1  0]\n",
      " [ 0  1 -2  0]\n",
      " [ 0  0  1  0]]\n",
      "[[1 2 2 1]\n",
      " [2 5 4 2]\n",
      " [3 4 5 3]\n",
      " [2 2 2 2]]\n",
      "[[0 0 0 0]\n",
      " [0 1 0 0]\n",
      " [0 0 1 0]\n",
      " [0 0 0 0]]\n",
      "[[ 0 -1 -1  0]\n",
      " [ 0 -4 -1  0]\n",
      " [ 0  0 -3  0]\n",
      " [ 0  0  0  0]]\n"
     ]
    }
   ],
   "source": [
    "p = np.array([[1,2,2,1], [2,5,4,2], [3,4,5,3], [2,2,2,2]])\n",
    "T = np.array([[0,1,0,0], [0,-2,1,0], [0,1,-2,0], [0,0,1,0]])\n",
    "idf = np.array([[0,0,0,0], [0,1,0,0], [0,0,1,0], [0,0,0,0]])\n",
    "print T\n",
    "print p\n",
    "print idf\n",
    "res = np.dot(p,T)\n",
    "print np.dot(res,idf)\n"
   ]
  },
  {
   "cell_type": "markdown",
   "metadata": {},
   "source": [
    "\n"
   ]
  },
  {
   "cell_type": "markdown",
   "metadata": {},
   "source": [
    "#### 3.  Discretizacion de ecuacion de onda"
   ]
  },
  {
   "cell_type": "code",
   "execution_count": null,
   "metadata": {
    "collapsed": false
   },
   "outputs": [],
   "source": [
    "\n",
    "    \n"
   ]
  },
  {
   "cell_type": "markdown",
   "metadata": {},
   "source": []
  },
  {
   "cell_type": "markdown",
   "metadata": {
    "collapsed": false
   },
   "source": [
    "#### 4. Analisis de sensibilidad"
   ]
  },
  {
   "cell_type": "markdown",
   "metadata": {},
   "source": []
  },
  {
   "cell_type": "code",
   "execution_count": null,
   "metadata": {
    "collapsed": false
   },
   "outputs": [],
   "source": []
  },
  {
   "cell_type": "markdown",
   "metadata": {},
   "source": [
    "#### 5. Resolucion del problema."
   ]
  },
  {
   "cell_type": "markdown",
   "metadata": {},
   "source": []
  },
  {
   "cell_type": "code",
   "execution_count": null,
   "metadata": {
    "collapsed": false
   },
   "outputs": [],
   "source": []
  },
  {
   "cell_type": "markdown",
   "metadata": {},
   "source": [
    "### Analisis práctico"
   ]
  },
  {
   "cell_type": "markdown",
   "metadata": {
    "collapsed": false
   },
   "source": [
    "#### 1. Cambio de variable"
   ]
  },
  {
   "cell_type": "markdown",
   "metadata": {
    "collapsed": true
   },
   "source": []
  },
  {
   "cell_type": "markdown",
   "metadata": {
    "collapsed": false
   },
   "source": [
    "#### 2.Implementación  "
   ]
  },
  {
   "cell_type": "code",
   "execution_count": null,
   "metadata": {
    "collapsed": false
   },
   "outputs": [],
   "source": []
  },
  {
   "cell_type": "markdown",
   "metadata": {
    "collapsed": false
   },
   "source": [
    "#### 3. Cálculo de integrales"
   ]
  },
  {
   "cell_type": "markdown",
   "metadata": {},
   "source": []
  },
  {
   "cell_type": "code",
   "execution_count": null,
   "metadata": {
    "collapsed": false
   },
   "outputs": [],
   "source": []
  },
  {
   "cell_type": "markdown",
   "metadata": {
    "collapsed": true
   },
   "source": []
  },
  {
   "cell_type": "markdown",
   "metadata": {},
   "source": [
    "### Conclusión:"
   ]
  },
  {
   "cell_type": "markdown",
   "metadata": {
    "collapsed": true
   },
   "source": []
  },
  {
   "cell_type": "markdown",
   "metadata": {},
   "source": [
    "\n"
   ]
  },
  {
   "cell_type": "code",
   "execution_count": null,
   "metadata": {
    "collapsed": true
   },
   "outputs": [],
   "source": []
  }
 ],
 "metadata": {
  "kernelspec": {
   "display_name": "Python 2",
   "language": "python",
   "name": "python2"
  },
  "language_info": {
   "codemirror_mode": {
    "name": "ipython",
    "version": 2
   },
   "file_extension": ".py",
   "mimetype": "text/x-python",
   "name": "python",
   "nbconvert_exporter": "python",
   "pygments_lexer": "ipython2",
   "version": "2.7.11"
  }
 },
 "nbformat": 4,
 "nbformat_minor": 0
}
