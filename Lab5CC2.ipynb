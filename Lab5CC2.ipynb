{
 "cells": [
  {
   "cell_type": "markdown",
   "metadata": {},
   "source": [
    "# Computación Científica II\n",
    "## Laboratorio  #4\n",
    "    \n",
    "   Gabriela González Toledo      gabriela.gonzalez@alumnos.usm.cl  201173017-8\n",
    "   \n",
    "   Ian Zamorano Escobedo         Ian.zamorano.12@sansano.usm.cl    201273018-k"
   ]
  },
  {
   "cell_type": "code",
   "execution_count": 1,
   "metadata": {
    "collapsed": false
   },
   "outputs": [],
   "source": [
    "from mpl_toolkits.mplot3d import Axes3D\n",
    "import numpy as np\n",
    "import matplotlib.pyplot as plt\n",
    "from numpy import linalg as LA\n",
    "from matplotlib import animation\n",
    "import math\n",
    "\n",
    "import timeit\n",
    "from math import ceil, floor\n",
    "from sympy import *\n",
    "from sympy.abc import *\n",
    "from scipy.special import gamma\n",
    "\n",
    "#%load_ext line_profiler"
   ]
  },
  {
   "cell_type": "markdown",
   "metadata": {},
   "source": [
    "### Introducción:"
   ]
  },
  {
   "cell_type": "markdown",
   "metadata": {},
   "source": [
    "En este laboratorio trabajaremos en la resolución del modelo propuesto por FitzHugh-Nagumo, en primera instancia lo resolveremos mediante Diferencias Finitas utilizando dos métodos de discretización(backward/forward).  En la segunda parte resolveremos el modelo mediante el método de las líneas y finalmente probaremos nuestras implementaciones con distintos parámetros para decidir qué metodo  tiene un mejor desempeño."
   ]
  },
  {
   "cell_type": "markdown",
   "metadata": {},
   "source": [
    "### Diferencias Finitas en 2D"
   ]
  },
  {
   "cell_type": "markdown",
   "metadata": {},
   "source": [
    "#### a. Esquema de discretización forward:"
   ]
  },
  {
   "cell_type": "markdown",
   "metadata": {
    "collapsed": false
   },
   "source": [
    "$$\n",
    "\\partial_t u = D_u \\Delta u + \\lambda u - u^3 - \\kappa - \\sigma􀀀 \u001bv\n",
    "$$\n",
    "$$\n",
    "\\tau \\partial_t v = D_v \\Delta v + u -􀀀 \u001bv\n",
    "$$\n",
    "\n",
    "$$\n",
    "u \\rightarrow w\n",
    "$$\n",
    "\n",
    "$$\n",
    "v \\rightarrow q\n",
    "$$\n",
    "\n",
    "$$\n",
    "w_{i,j,k} = u(x_i,y_j,t_k) = u(i\\Delta x, j\\Delta y, k \\Delta t) \\qquad i,j,k \\in \\{1,2,3, \\dots , N\\}\n",
    "$$\n",
    "$$\n",
    "q_{i,j,k} = v(x_i,y_j,t_k) = v(i\\Delta x, j\\Delta y, k \\Delta t) \\qquad i,j,k \\in \\{1,2,3, \\dots , N\\}\n",
    "$$\n",
    "\n",
    "$$\n",
    "w_{xx} = \\cfrac{w_{i-1,j,k} - 2 w_{i,j,k} + w_{i+1,j,k}}{\\Delta x^{2}}\n",
    "$$\n",
    "\n",
    "$$\n",
    "w_{yy} = \\cfrac{w_{i,j-1,k} - 2 w_{i,j,k} + w_{i,j+1,k}}{\\Delta y^{2}}\n",
    "$$\n",
    "\n",
    "$$\n",
    "w_{t} = \\cfrac{w_{i,j,k+1} - w_{i,j,k}}{\\Delta t}\n",
    "$$\n",
    "\n",
    "\n",
    "\n",
    "$$\n",
    "\\cfrac{w_{i,j,k+1} - w_{i,j,k}}{\\Delta t} = D_w \\left( \\cfrac{w_{i-1,j,k} - 2 w_{i,j,k} + w_{i+1,j,k}}{\\Delta x^{2}} + \\cfrac{w_{i,j-1,k} - 2 w_{i,j,k} + w_{i,j+1,k}}{\\Delta y^{2}} \\right) + \\lambda w_{i,j,k} - w_{i,j,k}^3 - \\kappa - \\sigma􀀀 \u001bq_{i,j,k}\n",
    "$$\n",
    "\n",
    "$$\n",
    "\\tau \\cfrac{q_{i,j,k+1} - q_{i,j,k}}{\\Delta t} = D_q \\left( \\cfrac{q_{i-1,j,k} - 2 q_{i,j,k} + q_{i+1,j,k}}{\\Delta x^{2}} + \\cfrac{q_{i,j-1,k} - 2 q_{i,j,k} + q_{i,j+1,k}}{\\Delta y^{2}} \\right) +  w_{i,j,k} -􀀀 \u001b q_{i,j,k}\n",
    "$$\n",
    "\n",
    "$$\n",
    "~\n",
    "$$\n",
    "\n",
    "$$\n",
    "w_{i,j,k+1}  = \\Delta t \\left[ D_w \\left( \\cfrac{w_{i-1,j,k} - 2 w_{i,j,k} + w_{i+1,j,k}}{\\Delta x^{2}} + \\cfrac{w_{i,j-1,k} - 2 w_{i,j,k} + w_{i,j+1,k}}{\\Delta y^{2}} \\right) + \\lambda w_{i,j,k} - w_{i,j,k}^3 - \\kappa - \\sigma􀀀 \u001bq_{i,j,k} \\right] + w_{i,j,k}\n",
    "$$\n",
    "\n",
    "$$\n",
    "q_{i,j,k+1}  = \\cfrac{ \\Delta t \\left[ D_q \\left( \\cfrac{q_{i-1,j,k} - 2 q_{i,j,k} + q_{i+1,j,k}}{\\Delta x^{2}} + \\cfrac{q_{i,j-1,k} - 2 q_{i,j,k} + q_{i,j+1,k}}{\\Delta y^{2}} \\right) +  w_{i,j,k} -􀀀 \u001b q_{i,j,k} \\right]}{\\tau } + q_{i,j,k}\n",
    "$$\n"
   ]
  },
  {
   "cell_type": "markdown",
   "metadata": {},
   "source": [
    "#### b. Desarrollo solve forward:"
   ]
  },
  {
   "cell_type": "code",
   "execution_count": 2,
   "metadata": {
    "collapsed": false
   },
   "outputs": [],
   "source": [
    "from scipy import sparse\n",
    "# Calculo de la matriz tridiagonal\n",
    "def tridiag_forward(dimension, tupla):\n",
    "    a,b = dimension\n",
    "    dl = tupla[0] * np.ones(b)\n",
    "    du = tupla[1] * np.ones(b)\n",
    "    d0 = tupla[2] * np.ones(b)\n",
    "    d = np.vstack((dl, du, d0))\n",
    "    A = sparse.spdiags(d, (-1, 0, 1), a, b)\n",
    "    A  = A.todense()\n",
    "    A[0,-2]= tupla[0]\n",
    "    A[-1,1] = tupla[2]\n",
    "    #A[:,-1][1]=tupla[2]\n",
    "    #A[:,0][0]=tupla[0]\n",
    "    return A"
   ]
  },
  {
   "cell_type": "code",
   "execution_count": 3,
   "metadata": {
    "collapsed": false
   },
   "outputs": [
    {
     "name": "stdout",
     "output_type": "stream",
     "text": [
      "[[-2.  1.  0.  1.  0.]\n",
      " [ 1. -2.  1.  0.  0.]\n",
      " [ 0.  1. -2.  1.  0.]\n",
      " [ 0.  0.  1. -2.  1.]\n",
      " [ 0.  1.  0.  1. -2.]]\n"
     ]
    }
   ],
   "source": [
    "print tridiag_forward((5,5),(1,-2,1))"
   ]
  },
  {
   "cell_type": "code",
   "execution_count": 4,
   "metadata": {
    "collapsed": false
   },
   "outputs": [],
   "source": [
    "def solve_forward(u,v, delta_x, delta_y, delta_t, T_f, D_w, D_q, l, tau, sigma, kappa):\n",
    "    U = np.zeros((int(T_f/delta_t + 1),u.shape[0], u.shape[1]))\n",
    "    V = np.zeros((int(T_f/delta_t + 1),v.shape[0], v.shape[1]))\n",
    "    U[0] = u\n",
    "    V[0] = v\n",
    "    T_x = tridiag_forward((u.shape[1],u.shape[1]),(1/delta_x**2,-2/delta_x**2,1/delta_x**2))\n",
    "    T_y = tridiag_forward((u.shape[0],u.shape[0]),(1/delta_y**2,-2/delta_y**2,1/delta_y**2))\n",
    "    kappa = np.ones(u.shape) * kappa\n",
    "    for i in range(int(T_f/delta_t)):\n",
    "        Uxx = np.dot(T_x,U[i])\n",
    "        Uyy = np.transpose(np.dot(T_y,np.transpose(U[i])))\n",
    "        Vxx = np.dot(T_x, V[i])\n",
    "        Vyy = np.transpose(np.dot(T_y,np.transpose(V[i])))\n",
    "        U[i+1] = delta_t*( D_w*(Uxx + Uyy) + l*U[i] - U[i]**3 - kappa - sigma*V[i] ) + U[i]\n",
    "        V[i+1] = (delta_t/tau)*( D_q*(Vxx + Vyy)  + U[i] - V[i] ) + V[i]\n",
    "    return U,V"
   ]
  },
  {
   "cell_type": "code",
   "execution_count": 5,
   "metadata": {
    "collapsed": false
   },
   "outputs": [],
   "source": [
    "def borde_igual(m):\n",
    "    m[:,-1][0] = m[0][0]\n",
    "    m[-1,:][0] = m[0][0]\n",
    "    m[0,:][-1] = m[0][0]\n",
    "    m[:,-1] = m[:,0]\n",
    "    m[0,:] = m[-1,:]\n",
    "    return m"
   ]
  },
  {
   "cell_type": "code",
   "execution_count": null,
   "metadata": {
    "collapsed": false
   },
   "outputs": [],
   "source": []
  },
  {
   "cell_type": "markdown",
   "metadata": {},
   "source": [
    "#### c. Desarrollo solve backward:"
   ]
  },
  {
   "cell_type": "markdown",
   "metadata": {},
   "source": [
    "$$\n",
    "\\partial_t u = D_u \\Delta u + \\lambda u - u^3 - \\kappa - \\sigma􀀀 \u001bv\n",
    "$$\n",
    "$$\n",
    "\\tau \\partial_t v = D_v \\Delta v + u -􀀀 \u001bv\n",
    "$$\n",
    "\n",
    "$$\n",
    "u \\rightarrow w\n",
    "$$\n",
    "\n",
    "$$\n",
    "v \\rightarrow q\n",
    "$$\n",
    "\n",
    "$$\n",
    "w_{i,j,k} = u(x_i,y_j,t_k) = u(i\\Delta x, j\\Delta y, k \\Delta t) \\qquad i,j,k \\in \\{1,2,3, \\dots , N\\}\n",
    "$$\n",
    "$$\n",
    "q_{i,j,k} = v(x_i,y_j,t_k) = v(i\\Delta x, j\\Delta y, k \\Delta t) \\qquad i,j,k \\in \\{1,2,3, \\dots , N\\}\n",
    "$$\n",
    "\n",
    "$$\n",
    "w_{xx} = \\cfrac{w_{i-1,j,k} - 2 w_{i,j,k} + w_{i+1,j,k}}{\\Delta x^{2}}\n",
    "$$\n",
    "\n",
    "$$\n",
    "w_{yy} = \\cfrac{w_{i,j-1,k} - 2 w_{i,j,k} + w_{i,j+1,k}}{\\Delta y^{2}}\n",
    "$$\n",
    "\n",
    "$$\n",
    "w_{t} = \\cfrac{w_{i,j,k+1} - w_{i,j,k}}{\\Delta t}\n",
    "$$\n",
    "\n",
    "\n",
    "\n",
    "$$\n",
    "\\cfrac{w_{i,j,k+1} - w_{i,j,k}}{\\Delta t} = D_w \\left( \\cfrac{w_{i-1,j,k+1} - 2 w_{i,j,k+} + w_{i+1,j,k+1}}{\\Delta x^{2}} + \\cfrac{w_{i,j-1,k+1} - 2 w_{i,j,k+1} + w_{i,j+1,k+1}}{\\Delta y^{2}} \\right) + \\lambda w_{i,j,k+1} - w_{i,j,k+1}^3 - \\kappa - \\sigma􀀀 \u001bq_{i,j,k+1}\n",
    "$$\n",
    "\n",
    "$$\n",
    "\\tau \\cfrac{q_{i,j,k+1} - q_{i,j,k}}{\\Delta t} = D_q \\left( \\cfrac{q_{i-1,j,k+1} - 2 q_{i,j,k+1} + q_{i+1,j,k+1}}{\\Delta x^{2}} + \\cfrac{q_{i,j-1,k+1} - 2 q_{i,j,k+1} + q_{i,j+1,k+1}}{\\Delta y^{2}} \\right) +  w_{i,j,k+1} -􀀀 \u001b q_{i,j,k+1}\n",
    "$$\n",
    "\n",
    "$$\n",
    "~\n",
    "$$\n",
    "\n",
    "$$\n",
    "w_{i,j,k+1}  = \\Delta t \\left[ D_w \\left( \\cfrac{w_{i-1,j,k} - 2 w_{i,j,k} + w_{i+1,j,k}}{\\Delta x^{2}} + \\cfrac{w_{i,j-1,k} - 2 w_{i,j,k} + w_{i,j+1,k}}{\\Delta y^{2}} \\right) + \\lambda w_{i,j,k} - w_{i,j,k}^3 - \\kappa - \\sigma􀀀 \u001bq_{i,j,k} \\right] + w_{i,j,k}\n",
    "$$\n",
    "\n",
    "$$\n",
    "q_{i,j,k+1}  = \\cfrac{ \\Delta t \\left[ D_q \\left( \\cfrac{q_{i-1,j,k} - 2 q_{i,j,k} + q_{i+1,j,k}}{\\Delta x^{2}} + \\cfrac{q_{i,j-1,k} - 2 q_{i,j,k} + q_{i,j+1,k}}{\\Delta y^{2}} \\right) +  w_{i,j,k} -􀀀 \u001b q_{i,j,k} \\right]}{\\tau } + q_{i,j,k}\n",
    "$$\n"
   ]
  },
  {
   "cell_type": "markdown",
   "metadata": {},
   "source": [
    "\n"
   ]
  },
  {
   "cell_type": "markdown",
   "metadata": {},
   "source": [
    "### Metodo de las lineas"
   ]
  },
  {
<<<<<<< HEAD
   "cell_type": "markdown",
   "metadata": {
    "collapsed": true
   },
   "source": [
    "#### a) Discretización"
   ]
  },
  {
   "cell_type": "markdown",
   "metadata": {},
   "source": [
    "$$\n",
    "\\partial_t u = D_u \\Delta u + \\lambda u - u^3 - \\kappa - \\sigma􀀀 \u001bv\n",
    "$$\n",
    "$$\n",
    "\\tau \\partial_t v = D_v \\Delta v + u -􀀀 \u001bv\n",
    "$$\n",
    "\n",
    "$$\n",
    "u_{i,j,k} = u(x_i,y_j,t_k) = u(i\\Delta x, j\\Delta y, k \\Delta t) \\qquad i,j,k \\in \\{1,2,3, \\dots , N\\}\n",
    "$$\n",
    "$$\n",
    "v_{i,j,k} = v(x_i,y_j,t_k) = v(i\\Delta x, j\\Delta y, k \\Delta t) \\qquad i,j,k \\in \\{1,2,3, \\dots , N\\}\n",
    "$$\n",
    "\n",
    "$$\n",
    "u_{xx} = \\cfrac{u_{i-1,j,k} - 2 u_{i,j,k} + u_{i+1,j,k}}{\\Delta x^{2}}\n",
    "$$\n",
    "\n",
    "$$\n",
    "u_{yy} = \\cfrac{u_{i,j-1,k} - 2 u_{i,j,k} + u_{i,j+1,k}}{\\Delta y^{2}}\n",
    "$$\n",
    "\n",
    "$$\n",
    "v_{xx} = \\cfrac{v_{i-1,j,k} - 2 v_{i,j,k} + v_{i+1,j,k}}{\\Delta x^{2}}\n",
    "$$\n",
    "\n",
    "$$\n",
    "v_{yy} = \\cfrac{v_{i,j-1,k} - 2 v_{i,j,k} + v_{i,j+1,k}}{\\Delta y^{2}}\n",
    "$$\n",
    "Con esto ahora obtenemos dos EDOs\n",
    "$$\n",
    "\\frac{\\partial u_{i,j}(t)}{\\partial t} = D_{u} \\left( \\cfrac{u_{i-1,j}(t) - 2 u_{i,j}(t) + u_{i+1,j}(t)}{\\Delta x^{2}}+\\cfrac{u_{i,j-1,k} - 2 u_{i,j,k} + u_{i,j+1,k}}{\\Delta y^{2}} \\right)+ \\lambda u_{i,j}(t) - u_{i,j}(t)^{3} - \\kappa - \\sigma q_{i,j}(t)\n",
    "$$\n",
    "$$\n",
    "\\frac{\\partial v_{i,j}(t)}{\\partial t} =\\frac{ D_{v} \\left( \\cfrac{v_{i-1,j}(t) - 2 v_{i,j}(t) + v_{i+1,j}(t)}{\\Delta x^{2}}+\\cfrac{v_{i,j-1,k} - 2 v_{i,j,k} + v_{i,j+1,k}}{\\Delta y^{2}} \\right) + u_{i,j}(t) - v_{i,j}(t)}{\\tau}\n",
    "$$\n"
   ]
=======
   "cell_type": "code",
   "execution_count": null,
   "metadata": {
    "collapsed": true
   },
   "outputs": [],
   "source": []
>>>>>>> origin/master
  },
  {
   "cell_type": "markdown",
   "metadata": {},
   "source": [
    "### Simulaciones"
   ]
  },
  {
   "cell_type": "markdown",
   "metadata": {
    "collapsed": false
   },
   "source": [
    "#### 1. Parámetros"
   ]
  },
  {
   "cell_type": "markdown",
   "metadata": {
    "collapsed": true
   },
   "source": []
  },
  {
   "cell_type": "markdown",
   "metadata": {
    "collapsed": false
   },
   "source": [
    "#### 2.Animación"
   ]
  },
  {
   "cell_type": "code",
   "execution_count": 6,
   "metadata": {
    "collapsed": false
   },
   "outputs": [],
   "source": [
    "def animate_pattern(sol, time_step=10, frame_step=20):\n",
    "    #time index\n",
    "    t_ind = 0\n",
    "    fig = plt.figure()\n",
    "    im = plt.imshow(sol[t_ind], cmap=plt.cm.winter)\n",
    "    plt.xticks([]); plt.yticks([])\n",
    "\n",
    "    #setting the number of frames\n",
    "    frames = int(sol.shape[0]/frame_step)\n",
    "    \n",
    "    #update function\n",
    "    def updatefig(t_ind):\n",
    "        im = plt.imshow(sol[t_ind*frame_step], cmap=plt.cm.winter)\n",
    "        return im,\n",
    "    \n",
    "    #animate it!\n",
    "    ani = animation.FuncAnimation(fig, updatefig, frames=frames, \n",
    "                    interval=time_step, blit=True, repeat=False)\n",
    "    plt.show()"
   ]
  },
  {
   "cell_type": "code",
   "execution_count": null,
   "metadata": {
    "collapsed": false
   },
   "outputs": [
    {
     "name": "stdout",
     "output_type": "stream",
     "text": [
      "u,\n",
      "[[ 0.70822668  0.22130319  0.52114197 ...,  0.45913535  0.96708582\n",
      "   0.70822668]\n",
      " [ 0.74581937  0.02952486  0.67048365 ...,  0.41663148  0.36490161\n",
      "   0.74581937]\n",
      " [ 0.35784242  0.39001775  0.79684632 ...,  0.81720409  0.05102416\n",
      "   0.35784242]\n",
      " ..., \n",
      " [ 0.96420163  0.27814847  0.98393779 ...,  0.68127214  0.88185132\n",
      "   0.96420163]\n",
      " [ 0.65467632  0.38898667  0.7925482  ...,  0.82425767  0.05766235\n",
      "   0.65467632]\n",
      " [ 0.70822668  0.22130319  0.52114197 ...,  0.45913535  0.96708582\n",
      "   0.70822668]] \n",
      " v\n",
      "[[ 0.05141658  0.31745425  0.10944851 ...,  0.8654      0.53897257\n",
      "   0.05141658]\n",
      " [ 0.02202635  0.96352202  0.54426269 ...,  0.64539377  0.05386381\n",
      "   0.02202635]\n",
      " [ 0.40318457  0.47319286  0.33597017 ...,  0.21823214  0.20698861\n",
      "   0.40318457]\n",
      " ..., \n",
      " [ 0.9335024   0.87019123  0.46202033 ...,  0.31467155  0.54949973\n",
      "   0.9335024 ]\n",
      " [ 0.16731166  0.48466972  0.60297168 ...,  0.57396743  0.85166071\n",
      "   0.16731166]\n",
      " [ 0.05141658  0.31745425  0.10944851 ...,  0.8654      0.53897257\n",
      "   0.05141658]]\n",
      "u,\n",
      "[[[ 0.70822668  0.22130319  0.52114197 ...,  0.45913535  0.96708582\n",
      "    0.70822668]\n",
      "  [ 0.74581937  0.02952486  0.67048365 ...,  0.41663148  0.36490161\n",
      "    0.74581937]\n",
      "  [ 0.35784242  0.39001775  0.79684632 ...,  0.81720409  0.05102416\n",
      "    0.35784242]\n",
      "  ..., \n",
      "  [ 0.96420163  0.27814847  0.98393779 ...,  0.68127214  0.88185132\n",
      "    0.96420163]\n",
      "  [ 0.65467632  0.38898667  0.7925482  ...,  0.82425767  0.05766235\n",
      "    0.65467632]\n",
      "  [ 0.70822668  0.22130319  0.52114197 ...,  0.45913535  0.96708582\n",
      "    0.70822668]]\n",
      "\n",
      " [[ 0.7082786   0.22148173  0.52131625 ...,  0.45915594  0.96624042\n",
      "    0.7082786 ]\n",
      "  [ 0.7455058   0.02970302  0.67015081 ...,  0.41677474  0.36521591\n",
      "    0.7455058 ]\n",
      "  [ 0.35790775  0.39013387  0.79649653 ...,  0.81672555  0.05145559\n",
      "    0.35790775]\n",
      "  ..., \n",
      "  [ 0.96335665  0.27849148  0.98347116 ...,  0.6815129   0.8811904\n",
      "    0.96335665]\n",
      "  [ 0.65461667  0.38903904  0.79220567 ...,  0.82377602  0.05823864\n",
      "    0.65461667]\n",
      "  [ 0.7082786   0.22148173  0.52131625 ...,  0.45915594  0.96624042\n",
      "    0.7082786 ]]\n",
      "\n",
      " [[ 0.70832317  0.22165774  0.52147556 ...,  0.45918829  0.9653991\n",
      "    0.70832317]\n",
      "  [ 0.74518163  0.02990088  0.669819   ...,  0.41692168  0.3655203\n",
      "    0.74518163]\n",
      "  [ 0.35797664  0.3902484   0.79614379 ...,  0.81623989  0.05188233\n",
      "    0.35797664]\n",
      "  ..., \n",
      "  [ 0.96252822  0.27884625  0.98299594 ...,  0.68174281  0.88052705\n",
      "    0.96252822]\n",
      "  [ 0.65454397  0.38909131  0.79187161 ...,  0.82329236  0.05882667\n",
      "    0.65454397]\n",
      "  [ 0.70832317  0.22165774  0.52147556 ...,  0.45918829  0.9653991\n",
      "    0.70832317]]\n",
      "\n",
      " ..., \n",
      " [[ 0.66653215  0.68134898  0.62561809 ...,  0.46729088  0.59914989\n",
      "    0.66653215]\n",
      "  [ 0.68560024  0.68305897  0.61933757 ...,  0.60545175  0.66043278\n",
      "    0.68560024]\n",
      "  [ 0.67922068  0.67542572  0.62011776 ...,  0.62591529  0.66359466\n",
      "    0.67922068]\n",
      "  ..., \n",
      "  [ 0.38954938  0.54482881  0.57093581 ..., -0.31228858  0.07144038\n",
      "    0.38954938]\n",
      "  [ 0.58640101  0.64894791  0.62156748 ...,  0.13425941  0.41792751\n",
      "    0.58640101]\n",
      "  [ 0.66653215  0.68134898  0.62561809 ...,  0.46729088  0.59914989\n",
      "    0.66653215]]\n",
      "\n",
      " [[ 0.66654103  0.68135819  0.62562342 ...,  0.467289    0.59915513\n",
      "    0.66654103]\n",
      "  [ 0.68561181  0.68306865  0.61934206 ...,  0.60546431  0.66044523\n",
      "    0.68561181]\n",
      "  [ 0.67923373  0.67543618  0.62012287 ...,  0.6259317   0.66360974\n",
      "    0.67923373]\n",
      "  ..., \n",
      "  [ 0.38953409  0.54483169  0.57094545 ..., -0.31233617  0.07139977\n",
      "    0.38953409]\n",
      "  [ 0.58640249  0.64895565  0.6215747  ...,  0.13422762  0.41791439\n",
      "    0.58640249]\n",
      "  [ 0.66654103  0.68135819  0.62562342 ...,  0.467289    0.59915513\n",
      "    0.66654103]]\n",
      "\n",
      " [[ 0.6665499   0.68136739  0.62562875 ...,  0.46728711  0.59916036\n",
      "    0.6665499 ]\n",
      "  [ 0.68562337  0.68307833  0.61934654 ...,  0.60547688  0.66045767\n",
      "    0.68562337]\n",
      "  [ 0.67924677  0.67544664  0.62012797 ...,  0.62594811  0.66362481\n",
      "    0.67924677]\n",
      "  ..., \n",
      "  [ 0.3895188   0.54483456  0.57095509 ..., -0.31238376  0.07135916\n",
      "    0.3895188 ]\n",
      "  [ 0.58640397  0.64896339  0.62158192 ...,  0.13419583  0.41790127\n",
      "    0.58640397]\n",
      "  [ 0.6665499   0.68136739  0.62562875 ...,  0.46728711  0.59916036\n",
      "    0.6665499 ]]] \n",
      " v\n",
      "[[[ 0.05141658  0.31745425  0.10944851 ...,  0.8654      0.53897257\n",
      "    0.05141658]\n",
      "  [ 0.02202635  0.96352202  0.54426269 ...,  0.64539377  0.05386381\n",
      "    0.02202635]\n",
      "  [ 0.40318457  0.47319286  0.33597017 ...,  0.21823214  0.20698861\n",
      "    0.40318457]\n",
      "  ..., \n",
      "  [ 0.9335024   0.87019123  0.46202033 ...,  0.31467155  0.54949973\n",
      "    0.9335024 ]\n",
      "  [ 0.16731166  0.48466972  0.60297168 ...,  0.57396743  0.85166071\n",
      "    0.16731166]\n",
      "  [ 0.05141658  0.31745425  0.10944851 ...,  0.8654      0.53897257\n",
      "    0.05141658]]\n",
      "\n",
      " [[ 0.06886681  0.32377807  0.14579314 ...,  0.83533574  0.53342198\n",
      "    0.06886681]\n",
      "  [ 0.05005553  0.91368873  0.54288453 ...,  0.63492792  0.07749565\n",
      "    0.05005553]\n",
      "  [ 0.39429641  0.47640954  0.34467312 ...,  0.2382234   0.21780997\n",
      "    0.39429641]\n",
      "  ..., \n",
      "  [ 0.89603913  0.8389015   0.48481486 ...,  0.33892007  0.55873313\n",
      "    0.89603913]\n",
      "  [ 0.20001806  0.48484811  0.58307255 ...,  0.58115205  0.81978378\n",
      "    0.20001806]\n",
      "  [ 0.06886681  0.32377807  0.14579314 ...,  0.83533574  0.53342198\n",
      "    0.06886681]]\n",
      "\n",
      " [[ 0.08612297  0.32968324  0.17819664 ...,  0.80816868  0.52790661\n",
      "    0.08612297]\n",
      "  [ 0.07553567  0.86847943  0.54125284 ...,  0.62468397  0.09970377\n",
      "    0.07553567]\n",
      "  [ 0.38697641  0.4785011   0.35357488 ...,  0.25652964  0.22812588\n",
      "    0.38697641]\n",
      "  ..., \n",
      "  [ 0.86231923  0.81073637  0.50362113 ...,  0.36089146  0.56608176\n",
      "    0.86231923]\n",
      "  [ 0.22915275  0.48477899  0.56649104 ...,  0.5871066   0.79125789\n",
      "    0.22915275]\n",
      "  [ 0.08612297  0.32968324  0.17819664 ...,  0.80816868  0.52790661\n",
      "    0.08612297]]\n",
      "\n",
      " ..., \n",
      " [[ 0.27037388  0.27311068  0.24218452 ...,  0.19911872  0.24213531\n",
      "    0.27037388]\n",
      "  [ 0.30012819  0.29336443  0.25315401 ...,  0.24806246  0.28191289\n",
      "    0.30012819]\n",
      "  [ 0.31463968  0.30639457  0.26535691 ...,  0.26390643  0.29779617\n",
      "    0.31463968]\n",
      "  ..., \n",
      "  [ 0.16683858  0.20546057  0.21254567 ...,  0.03672809  0.10456621\n",
      "    0.16683858]\n",
      "  [ 0.2246893   0.24386179  0.22979501 ...,  0.12220694  0.17970991\n",
      "    0.2246893 ]\n",
      "  [ 0.27037388  0.27311068  0.24218452 ...,  0.19911872  0.24213531\n",
      "    0.27037388]]\n",
      "\n",
      " [[ 0.27037037  0.27310778  0.24218104 ...,  0.19911244  0.24213046\n",
      "    0.27037037]\n",
      "  [ 0.30012655  0.29336262  0.25315091 ...,  0.2480593   0.28191065\n",
      "    0.30012655]\n",
      "  [ 0.31463928  0.30639377  0.26535457 ...,  0.26390453  0.2977953\n",
      "    0.31463928]\n",
      "  ..., \n",
      "  [ 0.16682996  0.20545532  0.21254263 ...,  0.03671449  0.10455431\n",
      "    0.16682996]\n",
      "  [ 0.22468334  0.24385771  0.22979155 ...,  0.12219649  0.1797015\n",
      "    0.22468334]\n",
      "  [ 0.27037037  0.27310778  0.24218104 ...,  0.19911244  0.24213046\n",
      "    0.27037037]]\n",
      "\n",
      " [[ 0.27036686  0.27310488  0.24217757 ...,  0.19910616  0.24212561\n",
      "    0.27036686]\n",
      "  [ 0.30012492  0.29336081  0.2531478  ...,  0.24805614  0.28190841\n",
      "    0.30012492]\n",
      "  [ 0.31463889  0.30639298  0.26535222 ...,  0.26390263  0.29779442\n",
      "    0.31463889]\n",
      "  ..., \n",
      "  [ 0.16682134  0.20545006  0.21253958 ...,  0.03670089  0.10454242\n",
      "    0.16682134]\n",
      "  [ 0.22467738  0.24385362  0.22978809 ...,  0.12218605  0.17969309\n",
      "    0.22467738]\n",
      "  [ 0.27036686  0.27310488  0.24217757 ...,  0.19910616  0.24212561\n",
      "    0.27036686]]]\n"
     ]
    }
   ],
   "source": [
    "u_0 = np.random.rand(50,50)\n",
    "v_0 = np.random.rand(50,50)\n",
    "u_0 = borde_igual(u_0)\n",
    "v_0 = borde_igual(v_0)\n",
    "#     \"solve_forward(      u, v, delta_x, delta_y,     delta_t, T_f, D_w,    D_q,    l, tau, sigma, kappa)\"\n",
    "solu, solv =solve_forward(u_0 , v_0 , 1.0/49 , 1.0/49, 0.0004, 10.0 , 0.0003, 0.004, 1.0, 0.2, 1.0, -0.004)\n",
    "\n",
    "print \"u,\\n\", u_0, \"\\n v\\n\", v_0\n",
    "print \"u,\\n\", solu, \"\\n v\\n\", solv\n"
   ]
  },
  {
   "cell_type": "code",
   "execution_count": null,
   "metadata": {
    "collapsed": true
   },
   "outputs": [],
   "source": [
    "animate_pattern(solu)"
   ]
  },
  {
   "cell_type": "markdown",
   "metadata": {},
   "source": [
    "### Conclusión:"
   ]
  },
  {
   "cell_type": "markdown",
   "metadata": {
    "collapsed": true
   },
   "source": []
  },
  {
   "cell_type": "markdown",
   "metadata": {},
   "source": [
    "\n"
   ]
  },
  {
   "cell_type": "code",
   "execution_count": null,
   "metadata": {
    "collapsed": true
   },
   "outputs": [],
   "source": []
  },
  {
   "cell_type": "markdown",
   "metadata": {},
   "source": [
    "### Referencias:"
   ]
  },
  {
   "cell_type": "markdown",
   "metadata": {},
   "source": []
  }
 ],
 "metadata": {
  "kernelspec": {
   "display_name": "Python 2",
   "language": "python",
   "name": "python2"
  },
  "language_info": {
   "codemirror_mode": {
    "name": "ipython",
    "version": 2
   },
   "file_extension": ".py",
   "mimetype": "text/x-python",
   "name": "python",
   "nbconvert_exporter": "python",
   "pygments_lexer": "ipython2",
   "version": "2.7.10"
  }
 },
 "nbformat": 4,
 "nbformat_minor": 0
}
