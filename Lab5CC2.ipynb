{
 "cells": [
  {
   "cell_type": "markdown",
   "metadata": {},
   "source": [
    "# Computación Científica II\n",
    "## Laboratorio  #4\n",
    "    \n",
    "   Gabriela González Toledo      gabriela.gonzalez@alumnos.usm.cl  201173017-8\n",
    "   \n",
    "   Ian Zamorano Escobedo         Ian.zamorano.12@sansano.usm.cl    201273018-k"
   ]
  },
  {
   "cell_type": "code",
   "execution_count": null,
   "metadata": {
    "collapsed": false
   },
   "outputs": [],
   "source": [
    "from mpl_toolkits.mplot3d import Axes3D\n",
    "import numpy as np\n",
    "import matplotlib.pyplot as plt\n",
    "from numpy import linalg as LA\n",
    "from matplotlib import animation\n",
    "import math\n",
    "\n",
    "import timeit\n",
    "from math import ceil, floor\n",
    "from sympy import *\n",
    "from sympy.abc import *\n",
    "from scipy.special import gamma\n",
    "\n",
    "#%load_ext line_profiler"
   ]
  },
  {
   "cell_type": "markdown",
   "metadata": {},
   "source": [
    "### Introducción:"
   ]
  },
  {
   "cell_type": "markdown",
   "metadata": {},
   "source": [
    "En este laboratorio trabajaremos en la resolución del modelo propuesto por FitzHugh-Nagumo, en primera instancia lo resolveremos mediante Diferencias Finitas utilizando dos métodos de discretización(backward/forward).  En la segunda parte resolveremos el modelo mediante el método de las líneas y finalmente probaremos nuestras implementaciones con distintos parámetros para decidir qué metodo  tiene un mejor desempeño."
   ]
  },
  {
   "cell_type": "markdown",
   "metadata": {},
   "source": [
    "### Diferencias Finitas en 2D"
   ]
  },
  {
   "cell_type": "markdown",
   "metadata": {},
   "source": [
    "#### a. Esquema de discretización forward:"
   ]
  },
  {
   "cell_type": "markdown",
   "metadata": {
    "collapsed": false
   },
   "source": [
    "$$\n",
    "\\partial_t u = D_u \\Delta u + \\lambda u - u^3 - \\kappa - \\sigma􀀀 \u001bv\n",
    "$$\n",
    "$$\n",
    "\\tau \\partial_t v = D_v \\Delta v + u -􀀀 \u001bv\n",
    "$$\n",
    "\n",
    "$$\n",
    "u \\rightarrow w\n",
    "$$\n",
    "\n",
    "$$\n",
    "v \\rightarrow q\n",
    "$$\n",
    "\n",
    "$$\n",
    "w_{i,j,k} = u(x_i,y_j,t_k) = u(i\\Delta x, j\\Delta y, k \\Delta t) \\qquad i,j,k \\in \\{1,2,3, \\dots , N\\}\n",
    "$$\n",
    "$$\n",
    "q_{i,j,k} = v(x_i,y_j,t_k) = v(i\\Delta x, j\\Delta y, k \\Delta t) \\qquad i,j,k \\in \\{1,2,3, \\dots , N\\}\n",
    "$$\n",
    "\n",
    "$$\n",
    "w_{xx} = \\cfrac{w_{i-1,j,k} - 2 w_{i,j,k} + w_{i+1,j,k}}{\\Delta x^{2}}\n",
    "$$\n",
    "\n",
    "$$\n",
    "w_{yy} = \\cfrac{w_{i,j-1,k} - 2 w_{i,j,k} + w_{i,j+1,k}}{\\Delta y^{2}}\n",
    "$$\n",
    "\n",
    "$$\n",
    "w_{t} = \\cfrac{w_{i,j,k+1} - w_{i,j,k}}{\\Delta t}\n",
    "$$\n",
    "\n",
    "\n",
    "\n",
    "$$\n",
    "\\cfrac{w_{i,j,k+1} - w_{i,j,k}}{\\Delta t} = D_w \\left( \\cfrac{w_{i-1,j,k} - 2 w_{i,j,k} + w_{i+1,j,k}}{\\Delta x^{2}} + \\cfrac{w_{i,j-1,k} - 2 w_{i,j,k} + w_{i,j+1,k}}{\\Delta y^{2}} \\right) + \\lambda w_{i,j,k} - w_{i,j,k}^3 - \\kappa - \\sigma􀀀 \u001bq_{i,j,k}\n",
    "$$\n",
    "\n",
    "$$\n",
    "\\tau \\cfrac{q_{i,j,k+1} - q_{i,j,k}}{\\Delta t} = D_q \\left( \\cfrac{q_{i-1,j,k} - 2 q_{i,j,k} + q_{i+1,j,k}}{\\Delta x^{2}} + \\cfrac{q_{i,j-1,k} - 2 q_{i,j,k} + q_{i,j+1,k}}{\\Delta y^{2}} \\right) +  w_{i,j,k} -􀀀 \u001b q_{i,j,k}\n",
    "$$\n",
    "\n",
    "$$\n",
    "~\n",
    "$$\n",
    "\n",
    "$$\n",
    "w_{i,j,k+1}  = \\Delta t \\left[ D_w \\left( \\cfrac{w_{i-1,j,k} - 2 w_{i,j,k} + w_{i+1,j,k}}{\\Delta x^{2}} + \\cfrac{w_{i,j-1,k} - 2 w_{i,j,k} + w_{i,j+1,k}}{\\Delta y^{2}} \\right) + \\lambda w_{i,j,k} - w_{i,j,k}^3 - \\kappa - \\sigma􀀀 \u001bq_{i,j,k} \\right] + w_{i,j,k}\n",
    "$$\n",
    "\n",
    "$$\n",
    "q_{i,j,k+1}  = \\cfrac{ \\Delta t \\left[ D_q \\left( \\cfrac{q_{i-1,j,k} - 2 q_{i,j,k} + q_{i+1,j,k}}{\\Delta x^{2}} + \\cfrac{q_{i,j-1,k} - 2 q_{i,j,k} + q_{i,j+1,k}}{\\Delta y^{2}} \\right) +  w_{i,j,k} -􀀀 \u001b q_{i,j,k} \\right]}{\\tau } + q_{i,j,k}\n",
    "$$\n"
   ]
  },
  {
   "cell_type": "markdown",
   "metadata": {},
   "source": [
    "#### b. Desarrollo solve forward:"
   ]
  },
  {
   "cell_type": "code",
   "execution_count": null,
   "metadata": {
    "collapsed": false
   },
   "outputs": [],
   "source": [
    "from scipy import sparse\n",
    "# Calculo de la matriz tridiagonal\n",
    "def tridiag_forward(dimension, tupla):\n",
    "    a,b = dimension\n",
    "    dl = tupla[0] * np.ones(b)\n",
    "    du = tupla[1] * np.ones(b)\n",
    "    d0 = tupla[2] * np.ones(b)\n",
    "    d = np.vstack((dl, du, d0))\n",
    "    A = sparse.spdiags(d, (-1, 0, 1), a, b)\n",
    "    A  = A.todense()\n",
    "    A[0,-2]= tupla[0]\n",
    "    A[-1,1] = tupla[2]\n",
    "    #A[:,-1][1]=tupla[2]\n",
    "    #A[:,0][0]=tupla[0]\n",
    "    return A"
   ]
  },
  {
   "cell_type": "code",
   "execution_count": null,
   "metadata": {
    "collapsed": false
   },
   "outputs": [],
   "source": [
    "print tridiag_forward((5,5),(1,-2,1))"
   ]
  },
  {
   "cell_type": "code",
   "execution_count": null,
   "metadata": {
    "collapsed": false
   },
   "outputs": [],
   "source": [
    "def solve_forward(u,v, delta_x, delta_y, delta_t, T_f, D_w, D_q, l, tau, sigma, kappa):\n",
    "    U = np.zeros((int(T_f/delta_t + 1),u.shape[0], u.shape[1]))\n",
    "    V = np.zeros((int(T_f/delta_t + 1),v.shape[0], v.shape[1]))\n",
    "    U[0] = u\n",
    "    V[0] = v\n",
    "    T_x = tridiag_forward((u.shape[1],u.shape[1]),(1/delta_x**2,-2/delta_x**2,1/delta_x**2))\n",
    "    T_y = tridiag_forward((u.shape[0],u.shape[0]),(1/delta_y**2,-2/delta_y**2,1/delta_y**2))\n",
    "    print T_x\n",
    "    print T_y\n",
    "    kappa = np.ones(u.shape) * kappa\n",
    "    for i in range(int(T_f/delta_t)):\n",
    "        Uxx = np.dot(T_x,U[i])\n",
    "        Uyy = np.transpose(np.dot(np.transpose(T_y),U[i]))\n",
    "        Vxx = np.dot(T_x, V[i])\n",
    "        Vyy = np.transpose(np.dot(np.transpose(T_y),V[i]))\n",
    "        U[i+1] = delta_t*( D_w*(Uxx + Uyy) + l*U[i] - U[i]**3 - kappa - sigma*V[i] ) + U[i]\n",
    "        V[i+1] = (delta_t/tau)*(D_q*(Vxx + Vyy)  + U[i] - V[i]) + V[i]\n",
    "    return U,V"
   ]
  },
  {
   "cell_type": "code",
   "execution_count": null,
   "metadata": {
    "collapsed": false
   },
   "outputs": [],
   "source": [
    "def borde_igual(m):\n",
    "    m[:,-1][0] = m[0][0]\n",
    "    m[-1,:][0] = m[0][0]\n",
    "    m[0,:][-1] = m[0][0]\n",
    "    m[:,-1] = m[:,0]\n",
    "    m[0,:] = m[-1,:]\n",
    "    return m"
   ]
  },
  {
   "cell_type": "code",
   "execution_count": null,
   "metadata": {
    "collapsed": false
   },
   "outputs": [],
   "source": []
  },
  {
   "cell_type": "markdown",
   "metadata": {},
   "source": [
    "#### c. Desarrollo solve backward:"
   ]
  },
  {
   "cell_type": "markdown",
   "metadata": {},
   "source": [
    "$$\n",
    "\\partial_t u = D_u \\Delta u + \\lambda u - u^3 - \\kappa - \\sigma􀀀 \u001bv\n",
    "$$\n",
    "$$\n",
    "\\tau \\partial_t v = D_v \\Delta v + u -􀀀 \u001bv\n",
    "$$\n",
    "\n",
    "$$\n",
    "u \\rightarrow w\n",
    "$$\n",
    "\n",
    "$$\n",
    "v \\rightarrow q\n",
    "$$\n",
    "\n",
    "$$\n",
    "w_{i,j,k} = u(x_i,y_j,t_k) = u(i\\Delta x, j\\Delta y, k \\Delta t) \\qquad i,j,k \\in \\{1,2,3, \\dots , N\\}\n",
    "$$\n",
    "$$\n",
    "q_{i,j,k} = v(x_i,y_j,t_k) = v(i\\Delta x, j\\Delta y, k \\Delta t) \\qquad i,j,k \\in \\{1,2,3, \\dots , N\\}\n",
    "$$\n",
    "\n",
    "$$\n",
    "w_{xx} = \\cfrac{w_{i-1,j,k} - 2 w_{i,j,k} + w_{i+1,j,k}}{\\Delta x^{2}}\n",
    "$$\n",
    "\n",
    "$$\n",
    "w_{yy} = \\cfrac{w_{i,j-1,k} - 2 w_{i,j,k} + w_{i,j+1,k}}{\\Delta y^{2}}\n",
    "$$\n",
    "\n",
    "$$\n",
    "w_{t} = \\cfrac{w_{i,j,k+1} - w_{i,j,k}}{\\Delta t}\n",
    "$$\n",
    "\n",
    "\n",
    "\n",
    "$$\n",
    "\\cfrac{w_{i,j,k+1} - w_{i,j,k}}{\\Delta t} = D_w \\left( \\cfrac{w_{i-1,j,k+1} - 2 w_{i,j,k+} + w_{i+1,j,k+1}}{\\Delta x^{2}} + \\cfrac{w_{i,j-1,k+1} - 2 w_{i,j,k+1} + w_{i,j+1,k+1}}{\\Delta y^{2}} \\right) + \\lambda w_{i,j,k+1} - w_{i,j,k+1}^3 - \\kappa - \\sigma􀀀 \u001bq_{i,j,k+1}\n",
    "$$\n",
    "\n",
    "$$\n",
    "\\tau \\cfrac{q_{i,j,k+1} - q_{i,j,k}}{\\Delta t} = D_q \\left( \\cfrac{q_{i-1,j,k+1} - 2 q_{i,j,k+1} + q_{i+1,j,k+1}}{\\Delta x^{2}} + \\cfrac{q_{i,j-1,k+1} - 2 q_{i,j,k+1} + q_{i,j+1,k+1}}{\\Delta y^{2}} \\right) +  w_{i,j,k+1} -􀀀 \u001b q_{i,j,k+1}\n",
    "$$\n",
    "\n",
    "$$\n",
    "~\n",
    "$$\n",
    "\n",
    "$$\n",
    "w_{i,j,k+1}  = \\Delta t \\left[ D_w \\left( \\cfrac{w_{i-1,j,k} - 2 w_{i,j,k} + w_{i+1,j,k}}{\\Delta x^{2}} + \\cfrac{w_{i,j-1,k} - 2 w_{i,j,k} + w_{i,j+1,k}}{\\Delta y^{2}} \\right) + \\lambda w_{i,j,k} - w_{i,j,k}^3 - \\kappa - \\sigma􀀀 \u001bq_{i,j,k} \\right] + w_{i,j,k}\n",
    "$$\n",
    "\n",
    "$$\n",
    "q_{i,j,k+1}  = \\cfrac{ \\Delta t \\left[ D_q \\left( \\cfrac{q_{i-1,j,k} - 2 q_{i,j,k} + q_{i+1,j,k}}{\\Delta x^{2}} + \\cfrac{q_{i,j-1,k} - 2 q_{i,j,k} + q_{i,j+1,k}}{\\Delta y^{2}} \\right) +  w_{i,j,k} -􀀀 \u001b q_{i,j,k} \\right]}{\\tau } + q_{i,j,k}\n",
    "$$\n"
   ]
  },
  {
   "cell_type": "markdown",
   "metadata": {},
   "source": [
    "\n"
   ]
  },
  {
   "cell_type": "markdown",
   "metadata": {},
   "source": [
    "### Simulaciones"
   ]
  },
  {
   "cell_type": "markdown",
   "metadata": {
    "collapsed": false
   },
   "source": [
    "#### 1. Parámetros"
   ]
  },
  {
   "cell_type": "markdown",
   "metadata": {
    "collapsed": true
   },
   "source": []
  },
  {
   "cell_type": "markdown",
   "metadata": {
    "collapsed": false
   },
   "source": [
    "#### 2.Animación"
   ]
  },
  {
   "cell_type": "code",
   "execution_count": null,
   "metadata": {
    "collapsed": false
   },
   "outputs": [],
   "source": [
    "def animate_pattern(sol, time_step=10, frame_step=20):\n",
    "    #time index\n",
    "    t_ind = 0\n",
    "    fig = plt.figure()\n",
    "    im = plt.imshow(sol[t_ind], cmap=plt.cm.winter)\n",
    "    plt.xticks([]); plt.yticks([])\n",
    "\n",
    "    #setting the number of frames\n",
    "    frames = int(sol.shape[0]/frame_step)\n",
    "    \n",
    "    #update function\n",
    "    def updatefig(t_ind):\n",
    "        im = plt.imshow(sol[t_ind*frame_step], cmap=plt.cm.winter)\n",
    "        return im,\n",
    "    \n",
    "    #animate it!\n",
    "    ani = animation.FuncAnimation(fig, updatefig, frames=frames, \n",
    "                    interval=time_step, blit=True, repeat=True)\n",
    "    plt.show()"
   ]
  },
  {
   "cell_type": "code",
   "execution_count": null,
   "metadata": {
    "collapsed": false
   },
   "outputs": [],
   "source": [
    "u_0 = np.random.rand(50,50)\n",
    "v_0 = np.random.rand(50,50)\n",
    "u_0 = borde_igual(u_0)\n",
    "v_0 = borde_igual(v_0)\n",
    "#     \"solve_forward(      u, v, delta_x, delta_y,     delta_t, T_f, D_w,    D_q,    l, tau, sigma, kappa)\"\n",
    "solu, solv =solve_forward(u_0 , v_0 , 1.0/50 , 1.0/50, 0.0004, 10.0 , 0.0003, 0.004, 10.0, 0.2, 1.0, -0.004)\n",
    "\n",
    "print \"u,\\n\", u_0, \"\\n v\\n\", v_0\n",
    "print \"u,\\n\", solu, \"\\n v\\n\", solv\n"
   ]
  },
  {
   "cell_type": "code",
   "execution_count": null,
   "metadata": {
    "collapsed": true
   },
   "outputs": [],
   "source": [
    "animate_pattern(solu)"
   ]
  },
  {
   "cell_type": "markdown",
   "metadata": {},
   "source": [
    "### Conclusión:"
   ]
  },
  {
   "cell_type": "markdown",
   "metadata": {
    "collapsed": true
   },
   "source": []
  },
  {
   "cell_type": "markdown",
   "metadata": {},
   "source": [
    "\n"
   ]
  },
  {
   "cell_type": "code",
   "execution_count": null,
   "metadata": {
    "collapsed": true
   },
   "outputs": [],
   "source": []
  },
  {
   "cell_type": "markdown",
   "metadata": {},
   "source": [
    "### Referencias:"
   ]
  },
  {
   "cell_type": "markdown",
   "metadata": {},
   "source": []
  }
 ],
 "metadata": {
  "kernelspec": {
   "display_name": "Python 2",
   "language": "python",
   "name": "python2"
  },
  "language_info": {
   "codemirror_mode": {
    "name": "ipython",
    "version": 2
   },
   "file_extension": ".py",
   "mimetype": "text/x-python",
   "name": "python",
   "nbconvert_exporter": "python",
   "pygments_lexer": "ipython2",
   "version": "2.7.11"
  }
 },
 "nbformat": 4,
 "nbformat_minor": 0
}
