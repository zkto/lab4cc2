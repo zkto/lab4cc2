{
 "cells": [
  {
   "cell_type": "markdown",
   "metadata": {},
   "source": [
    "# Computación Científica II\n",
    "## Laboratorio  #4\n",
    "    \n",
    "   Gabriela González Toledo      gabriela.gonzalez@alumnos.usm.cl  201173017-8\n",
    "   \n",
    "   Ian Zamorano Escobedo         Ian.zamorano.12@sansano.usm.cl    201273018-k"
   ]
  },
  {
   "cell_type": "code",
   "execution_count": 67,
   "metadata": {
    "collapsed": false
   },
   "outputs": [],
   "source": [
    "from mpl_toolkits.mplot3d import Axes3D\n",
    "import numpy as np\n",
    "import matplotlib.pyplot as plt\n",
    "from numpy import linalg as LA\n",
    "\n",
    "import timeit\n",
    "from math import ceil, floor\n",
    "from sympy import *\n",
    "from sympy.abc import *\n",
    "from scipy.special import gamma\n",
    "\n",
    "#%load_ext line_profiler"
   ]
  },
  {
   "cell_type": "markdown",
   "metadata": {},
   "source": [
    "### Introducción:"
   ]
  },
  {
   "cell_type": "markdown",
   "metadata": {},
   "source": [
    "El presente laboratorio tiene como objetivo comprender y aplicar los métodos de Integración Numérica. Para esto implementaremos  los cuatro métodos vistos en clases. En la primera parte trabajaremos aplicando los métodos a una integral impropia, haciendo un cambio de variable y calculando los tiempos de ejecución de cada método. La segunda parte consta de implementar un método para calcular derivadas fraccionarias y hacer cálculos de algunas derivadas para luego analizar su comportamiento al variar la fracción entre sus enteros superior e inferior."
   ]
  },
  {
   "cell_type": "markdown",
   "metadata": {},
   "source": [
    "### Diferencias Finitas en 2D"
   ]
  },
  {
   "cell_type": "markdown",
   "metadata": {},
   "source": [
    "#### 1. Esquema de discretización forward:"
   ]
  },
  {
   "cell_type": "markdown",
   "metadata": {
    "collapsed": false
   },
   "source": [
    "$$\n",
    "\\partial_t u = D_u \\Delta u + \\lambda u - u^3 - \\kappa - \\sigma􀀀 \u001bv\n",
    "$$\n",
    "$$\n",
    "\\tau \\partial_t v = D_v \\Delta v + u -􀀀 \u001bv\n",
    "$$\n",
    "\n",
    "$$\n",
    "u \\rightarrow w\n",
    "$$\n",
    "\n",
    "$$\n",
    "v \\rightarrow q\n",
    "$$\n",
    "\n",
    "$$\n",
    "w_{i,j,k} = u(x_i,y_j,t_k) = u(i\\Delta x, j\\Delta y, k \\Delta t) \\qquad i,j,k \\in \\{1,2,3, \\dots , N\\}\n",
    "$$\n",
    "$$\n",
    "q_{i,j,k} = v(x_i,y_j,t_k) = v(i\\Delta x, j\\Delta y, k \\Delta t) \\qquad i,j,k \\in \\{1,2,3, \\dots , N\\}\n",
    "$$\n",
    "\n",
    "$$\n",
    "w_{xx} = \\cfrac{w_{i-1,j,k} - 2 w_{i,j,k} + w_{i+1,j,k}}{\\Delta x^{2}}\n",
    "$$\n",
    "\n",
    "$$\n",
    "w_{yy} = \\cfrac{w_{i,j-1,k} - 2 w_{i,j,k} + w_{i,j+1,k}}{\\Delta y^{2}}\n",
    "$$\n",
    "\n",
    "$$\n",
    "w_{t} = \\cfrac{w_{i,j,k+1} - w_{i,j,k}}{\\Delta t}\n",
    "$$\n",
    "\n",
    "\n",
    "\n",
    "$$\n",
    "\\cfrac{w_{i,j,k+1} - w_{i,j,k}}{\\Delta t} = D_w \\left( \\cfrac{w_{i-1,j,k} - 2 w_{i,j,k} + w_{i+1,j,k}}{\\Delta x^{2}} + \\cfrac{w_{i,j-1,k} - 2 w_{i,j,k} + w_{i,j+1,k}}{\\Delta y^{2}} \\right) + \\lambda w_{i,j,k} - w_{i,j,k}^3 - \\kappa - \\sigma􀀀 \u001bq_{i,j,k}\n",
    "$$\n",
    "\n",
    "$$\n",
    "\\tau \\cfrac{q_{i,j,k+1} - q_{i,j,k}}{\\Delta t} = D_q \\left( \\cfrac{q_{i-1,j,k} - 2 q_{i,j,k} + q_{i+1,j,k}}{\\Delta x^{2}} + \\cfrac{q_{i,j-1,k} - 2 q_{i,j,k} + q_{i,j+1,k}}{\\Delta y^{2}} \\right) +  w_{i,j,k} -􀀀 \u001b q_{i,j,k}\n",
    "$$\n",
    "\n",
    "$$\n",
    "~\n",
    "$$\n",
    "\n",
    "$$\n",
    "w_{i,j,k+1}  = \\Delta t \\left[ D_w \\left( \\cfrac{w_{i-1,j,k} - 2 w_{i,j,k} + w_{i+1,j,k}}{\\Delta x^{2}} + \\cfrac{w_{i,j-1,k} - 2 w_{i,j,k} + w_{i,j+1,k}}{\\Delta y^{2}} \\right) + \\lambda w_{i,j,k} - w_{i,j,k}^3 - \\kappa - \\sigma􀀀 \u001bq_{i,j,k} \\right] + w_{i,j,k}\n",
    "$$\n",
    "\n",
    "$$\n",
    "q_{i,j,k+1}  = \\cfrac{ \\Delta t \\left[ D_q \\left( \\cfrac{q_{i-1,j,k} - 2 q_{i,j,k} + q_{i+1,j,k}}{\\Delta x^{2}} + \\cfrac{q_{i,j-1,k} - 2 q_{i,j,k} + q_{i,j+1,k}}{\\Delta y^{2}} \\right) +  w_{i,j,k} -􀀀 \u001b q_{i,j,k} \\right]}{\\tau } + q_{i,j,k}\n",
    "$$\n"
   ]
  },
  {
   "cell_type": "markdown",
   "metadata": {},
   "source": [
    "#### 2. Desarrollo solve fordward:"
   ]
  },
  {
   "cell_type": "code",
   "execution_count": 55,
   "metadata": {
    "collapsed": true
   },
   "outputs": [],
   "source": [
    "'''def tridiag_forward_ian(dimension, tupla):\n",
    "    if (dimension[0] != dimension[1]):\n",
    "        x = np.zeros((dimension[0],dimension[1] ), dtype=np.float)\n",
    "        for i, v in enumerate(tupla):\n",
    "            np.fill_diagonal(x[:,i:], v)\n",
    "    if (dimension[0] == dimension[1]):\n",
    "        x = np.zeros((dimension[0],dimension[1] + 2), dtype=np.float)\n",
    "        for i, v in enumerate(tupla):\n",
    "            np.fill_diagonal(x[:,i:], v)\n",
    "        x = x[:, 1:-1]\n",
    "        x[0,-1]=tupla[2]\n",
    "        x[-1,0]=tupla[0]\n",
    "    return x '''"
   ]
  },
  {
   "cell_type": "code",
   "execution_count": 62,
   "metadata": {
    "collapsed": false
   },
   "outputs": [],
   "source": [
    "from scipy import sparse\n",
    "def tridiag_forward(dimension, tupla):\n",
    "    a,b = dimension\n",
    "    dl = tupla[0] * np.ones(b)\n",
    "    du = tupla[1] * np.ones(b)\n",
    "    d0 = tupla[2] * np.ones(b)\n",
    "    d = np.vstack((dl, du, d0))\n",
    "    A = sparse.spdiags(d, (-1, 0, 1), a, b)\n",
    "    A  = A.todense()\n",
    "    A[:,-1][0,:]=tupla[2]\n",
    "    A[-1,:][:,0]=tupla[0]\n",
    "    return A"
   ]
  },
  {
   "cell_type": "code",
   "execution_count": 66,
   "metadata": {
    "collapsed": false
   },
   "outputs": [
    {
     "name": "stdout",
     "output_type": "stream",
     "text": [
      "[[-1.   0.5  0.   0.5]\n",
      " [ 0.5 -1.   0.5  0. ]\n",
      " [ 0.   0.5 -1.   0.5]\n",
      " [ 0.5  0.   0.5 -1. ]]\n"
     ]
    }
   ],
   "source": [
    "p = np.array([[1,2,2,1,0], [2,5,4,2,0], [3,4,5,3,0], [2,2,2,2,0]])\n",
    "T = np.array([[-2,1,0,0,1], [1,-2,1,0,0], [0,1,-2,1,0], [0,0,1,-2,1], [1,0,0,1,-2]])\n",
    "\n",
    "def solve_forward(u,v, delta_x, delta_y, delta_t, T_f, D_w, D_q, l, tau, sigma, kappa):\n",
    "    U = np.zeros(((T_f/delta_t + 1),u.shape[0], u.shape[1]), dtype=np.float)\n",
    "    V = np.zeros(((T_f/delta_t + 1),v.shape[0], v.shape[1]), dtype=np.float)\n",
    "    T_x = tridiag_forward_ian((u.shape[1],u.shape[1]),(1/delta_x**2,-2/delta_x**2,1/delta_x**2))\n",
    "    T_y = tridiag_forward_ian((v.shape[1],v.shape[1]),(1/delta_y**2,-2/delta_y**2,1/delta_y**2))\n",
    "    for i in range(T_f/delta_t ):\n",
    "        U[i+1] = delta_t*(np.dot(D_w,(np.dot(U[i],T_x) + np.dot(np.transpose(U[i])),T_x)) + l*U[i] - LA.matrix_power(U[i],3) - kappa - np.dot(sigma, V[i]) ) + U[i]\n",
    "        V[i+1] = (delta_t/tau)*(np.dot(D_q,(np.dot(U[i],T_y) + np.dot(np.transpose(U[i])),T_y))  + U[i] -V[i])\n",
    "    return U,V"
   ]
  },
  {
   "cell_type": "code",
   "execution_count": null,
   "metadata": {
    "collapsed": true
   },
   "outputs": [],
   "source": []
  },
  {
   "cell_type": "markdown",
   "metadata": {},
   "source": [
    "\n"
   ]
  },
  {
   "cell_type": "markdown",
   "metadata": {},
   "source": [
    "#### 3.  Discretizacion de ecuacion de onda"
   ]
  },
  {
   "cell_type": "code",
   "execution_count": null,
   "metadata": {
    "collapsed": false
   },
   "outputs": [],
   "source": [
    "\n",
    "    \n"
   ]
  },
  {
   "cell_type": "markdown",
   "metadata": {},
   "source": []
  },
  {
   "cell_type": "markdown",
   "metadata": {
    "collapsed": false
   },
   "source": [
    "#### 4. Analisis de sensibilidad"
   ]
  },
  {
   "cell_type": "markdown",
   "metadata": {},
   "source": []
  },
  {
   "cell_type": "code",
   "execution_count": null,
   "metadata": {
    "collapsed": false
   },
   "outputs": [],
   "source": []
  },
  {
   "cell_type": "markdown",
   "metadata": {},
   "source": [
    "#### 5. Resolucion del problema."
   ]
  },
  {
   "cell_type": "markdown",
   "metadata": {},
   "source": []
  },
  {
   "cell_type": "code",
   "execution_count": null,
   "metadata": {
    "collapsed": false
   },
   "outputs": [],
   "source": []
  },
  {
   "cell_type": "markdown",
   "metadata": {},
   "source": [
    "### Analisis práctico"
   ]
  },
  {
   "cell_type": "markdown",
   "metadata": {
    "collapsed": false
   },
   "source": [
    "#### 1. Cambio de variable"
   ]
  },
  {
   "cell_type": "markdown",
   "metadata": {
    "collapsed": true
   },
   "source": []
  },
  {
   "cell_type": "markdown",
   "metadata": {
    "collapsed": false
   },
   "source": [
    "#### 2.Implementación  "
   ]
  },
  {
   "cell_type": "code",
   "execution_count": null,
   "metadata": {
    "collapsed": false
   },
   "outputs": [],
   "source": []
  },
  {
   "cell_type": "markdown",
   "metadata": {
    "collapsed": false
   },
   "source": [
    "#### 3. Cálculo de integrales"
   ]
  },
  {
   "cell_type": "markdown",
   "metadata": {},
   "source": []
  },
  {
   "cell_type": "code",
   "execution_count": null,
   "metadata": {
    "collapsed": false
   },
   "outputs": [],
   "source": []
  },
  {
   "cell_type": "markdown",
   "metadata": {
    "collapsed": true
   },
   "source": []
  },
  {
   "cell_type": "markdown",
   "metadata": {},
   "source": [
    "### Conclusión:"
   ]
  },
  {
   "cell_type": "markdown",
   "metadata": {
    "collapsed": true
   },
   "source": []
  },
  {
   "cell_type": "markdown",
   "metadata": {},
   "source": [
    "\n"
   ]
  },
  {
   "cell_type": "code",
   "execution_count": null,
   "metadata": {
    "collapsed": true
   },
   "outputs": [],
   "source": []
  },
  {
   "cell_type": "markdown",
   "metadata": {},
   "source": [
    "### Referencias:"
   ]
  },
  {
   "cell_type": "markdown",
   "metadata": {},
   "source": [
    "http://stackoverflow.com/questions/25839914/creating-a-special-matrix-in-numpy"
   ]
  }
 ],
 "metadata": {
  "kernelspec": {
   "display_name": "Python 2",
   "language": "python",
   "name": "python2"
  },
  "language_info": {
   "codemirror_mode": {
    "name": "ipython",
    "version": 2
   },
   "file_extension": ".py",
   "mimetype": "text/x-python",
   "name": "python",
   "nbconvert_exporter": "python",
   "pygments_lexer": "ipython2",
   "version": "2.7.11"
  }
 },
 "nbformat": 4,
 "nbformat_minor": 0
}
